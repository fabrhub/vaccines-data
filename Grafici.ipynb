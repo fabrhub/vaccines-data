{
 "cells": [
  {
   "cell_type": "markdown",
   "metadata": {},
   "source": [
    "## Import dei dati "
   ]
  },
  {
   "cell_type": "code",
   "execution_count": 162,
   "metadata": {},
   "outputs": [],
   "source": [
    "#Cose noiose da importare\n",
    "import matplotlib.pyplot as plot\n",
    "import pandas as pd\n",
    "import squarify as sqr\n",
    "from matplotlib.pyplot import figure\n",
    "import datetime as dt\n",
    "import numpy as np\n",
    "import matplotlib.dates as mdates\n",
    "import matplotlib.ticker as mtick\n",
    "import calendar\n",
    "from matplotlib.path import Path\n",
    "from matplotlib.spines import Spine\n",
    "from matplotlib.projections.polar import PolarAxes\n",
    "from matplotlib.projections import register_projection\n",
    "from datetime import date, timedelta\n",
    "import plotly.express as px\n",
    "import plotly.graph_objects as go\n",
    "import datetime"
   ]
  },
  {
   "cell_type": "code",
   "execution_count": 163,
   "metadata": {},
   "outputs": [],
   "source": [
    "#Dati anagrafici dei pazienti\n",
    "anagrafica_vaccini_summary_latest = pd.read_csv ('https://raw.githubusercontent.com/italia/covid19-opendata-vaccini/master/dati/anagrafica-vaccini-summary-latest.csv', sep = ',')\n",
    "\n",
    "#Dati sulle somministrazioni dei vaccini\n",
    "somministrazioni_vaccini = pd.read_csv ('https://raw.githubusercontent.com/italia/covid19-opendata-vaccini/master/dati/somministrazioni-vaccini-latest.csv', sep = ',')\n",
    "\n",
    "#Dati sulle consegne dei fornitori\n",
    "consegne_vaccini_latest = pd.read_csv ('https://raw.githubusercontent.com/italia/covid19-opendata-vaccini/master/dati/consegne-vaccini-latest.csv', sep = ',')\n",
    "\n",
    "#Dati sulle somministrazioni (Summary latest)\n",
    "somministrazioni_vaccini_sl = pd.read_csv('https://raw.githubusercontent.com/italia/covid19-opendata-vaccini/master/dati/somministrazioni-vaccini-summary-latest.csv', sep=',')\n",
    "\n"
   ]
  },
  {
   "cell_type": "markdown",
   "metadata": {},
   "source": [
    "# Dati anagrafica dosi"
   ]
  },
  {
   "cell_type": "code",
   "execution_count": 164,
   "metadata": {},
   "outputs": [],
   "source": [
    "#Prendo solo la fascia anagrafica, il totale delle somministrazioni e il numero di prime e seconde dosi dal file\n",
    "anagrafica = anagrafica_vaccini_summary_latest[['fascia_anagrafica', 'totale', 'prima_dose', 'seconda_dose']]"
   ]
  },
  {
   "cell_type": "code",
   "execution_count": 165,
   "metadata": {},
   "outputs": [],
   "source": [
    "#Mi salvo in variabili i valori: \n",
    "labels = [] #Etichette delle fasce anagrafiche\n",
    "prima_dose = [] #Totale prime dosi (Per fascia anagrafica)\n",
    "seconda_dose = [] #Totale seconde dosi (Per fascia anagrafica)\n",
    "totale = 0 #Somministrazioni totali (Per fascia anagrafica)\n",
    "totale_sommin = 0; #Somma totale di tutte le somministrazioni\n",
    "\n",
    "for i in range(len(anagrafica['fascia_anagrafica'])):\n",
    "    labels.append(anagrafica['fascia_anagrafica'][i])\n",
    "    prima_dose.append(anagrafica['prima_dose'][i])    \n",
    "    seconda_dose.append(anagrafica['seconda_dose'][i])\n",
    "    totale_sommin += anagrafica['totale'][i]\n",
    "    totale += anagrafica['seconda_dose'][i]"
   ]
  },
  {
   "cell_type": "markdown",
   "metadata": {},
   "source": [
    "## Grafico stacked bar plot"
   ]
  },
  {
   "cell_type": "code",
   "execution_count": 166,
   "metadata": {},
   "outputs": [
    {
     "data": {
      "image/png": "[encoded data removed]",
      "text/plain": [
       "<Figure size 432x288 with 1 Axes>"
      ]
     },
     "metadata": {
      "needs_background": "light"
     },
     "output_type": "display_data"
    }
   ],
   "source": [
    "#Data la fascia, nel grafico a barre impilato so quante tra queste sono prime e seconde dosi\n",
    "fig, ax = plot.subplots()\n",
    "\n",
    "width = 0.8\n",
    "ax.bar(labels, prima_dose, width, label='Prima dose', bottom=seconda_dose)\n",
    "ax.bar(labels, seconda_dose, width, label='Seconda dose')\n",
    "\n",
    "#plot.axis('off')\n",
    "ax.set_title('Dosi somministrate per età')\n",
    "ax.legend()\n",
    "#plot.savefig(fname='grafico_stackedbarplot.svg')\n",
    "\n",
    "plot.show()"
   ]
  },
  {
   "cell_type": "markdown",
   "metadata": {},
   "source": [
    "# Grafici a torta per fascia di età"
   ]
  },
  {
   "cell_type": "markdown",
   "metadata": {},
   "source": [
    "### Funzione"
   ]
  },
  {
   "cell_type": "code",
   "execution_count": 167,
   "metadata": {},
   "outputs": [],
   "source": [
    "#Funzione: Crea grafici a torta dato il numero di vaccinati, non vaccinati e quelli con solo la prima dose\n",
    "def pie_graph_3values(vax, primadose, nonvax, title):\n",
    "    \n",
    "    labels = 'Vaccinati', 'Solo prima dose', 'Non vaccinati'\n",
    "\n",
    "    sizes = [vax, primadose, nonvax]\n",
    "    explode = (0.1, 0, 0)\n",
    "    colors = ['#E31E82','#FDD001','#0065CC']\n",
    "\n",
    "    fig1, ax1 = plot.subplots()\n",
    "    ax1.pie(sizes, explode=explode, labels=labels, autopct='%1.1f%%',\n",
    "        shadow=True, startangle=90, colors=colors)\n",
    "    ax1.axis('equal')\n",
    "    plot.title(title) \n",
    "    #plot.savefig(fname='grafico_' + title + '.svg')\n",
    "\n",
    "    return (plot.show())"
   ]
  },
  {
   "cell_type": "markdown",
   "metadata": {},
   "source": [
    "### Dal totale delle somministrazioni prendo Johnson & Johnson che è monodose"
   ]
  },
  {
   "cell_type": "code",
   "execution_count": 168,
   "metadata": {},
   "outputs": [],
   "source": [
    "#Dal csv prendo solo i valori che mi interessano (Questo è molto piu completo, qui ho i fornitori)\n",
    "fornitore_fasce = somministrazioni_vaccini[['fornitore','fascia_anagrafica', 'prima_dose', 'seconda_dose']]"
   ]
  },
  {
   "cell_type": "code",
   "execution_count": 169,
   "metadata": {},
   "outputs": [
    {
     "data": {
      "text/html": [
       "<div>\n",
       "<style scoped>\n",
       "    .dataframe tbody tr th:only-of-type {\n",
       "        vertical-align: middle;\n",
       "    }\n",
       "\n",
       "    .dataframe tbody tr th {\n",
       "        vertical-align: top;\n",
       "    }\n",
       "\n",
       "    .dataframe thead th {\n",
       "        text-align: right;\n",
       "    }\n",
       "</style>\n",
       "<table border=\"1\" class=\"dataframe\">\n",
       "  <thead>\n",
       "    <tr style=\"text-align: right;\">\n",
       "      <th></th>\n",
       "      <th>fascia_anagrafica</th>\n",
       "      <th>prima_dose</th>\n",
       "    </tr>\n",
       "  </thead>\n",
       "  <tbody>\n",
       "    <tr>\n",
       "      <th>0</th>\n",
       "      <td>16-19</td>\n",
       "      <td>166</td>\n",
       "    </tr>\n",
       "    <tr>\n",
       "      <th>1</th>\n",
       "      <td>20-29</td>\n",
       "      <td>5389</td>\n",
       "    </tr>\n",
       "    <tr>\n",
       "      <th>2</th>\n",
       "      <td>30-39</td>\n",
       "      <td>5605</td>\n",
       "    </tr>\n",
       "    <tr>\n",
       "      <th>3</th>\n",
       "      <td>40-49</td>\n",
       "      <td>7743</td>\n",
       "    </tr>\n",
       "    <tr>\n",
       "      <th>4</th>\n",
       "      <td>50-59</td>\n",
       "      <td>39462</td>\n",
       "    </tr>\n",
       "    <tr>\n",
       "      <th>5</th>\n",
       "      <td>60-69</td>\n",
       "      <td>130108</td>\n",
       "    </tr>\n",
       "    <tr>\n",
       "      <th>6</th>\n",
       "      <td>70-79</td>\n",
       "      <td>70759</td>\n",
       "    </tr>\n",
       "    <tr>\n",
       "      <th>7</th>\n",
       "      <td>80-89</td>\n",
       "      <td>2374</td>\n",
       "    </tr>\n",
       "    <tr>\n",
       "      <th>8</th>\n",
       "      <td>90+</td>\n",
       "      <td>1259</td>\n",
       "    </tr>\n",
       "  </tbody>\n",
       "</table>\n",
       "</div>"
      ],
      "text/plain": [
       "  fascia_anagrafica  prima_dose\n",
       "0             16-19         166\n",
       "1             20-29        5389\n",
       "2             30-39        5605\n",
       "3             40-49        7743\n",
       "4             50-59       39462\n",
       "5             60-69      130108\n",
       "6             70-79       70759\n",
       "7             80-89        2374\n",
       "8               90+        1259"
      ]
     },
     "execution_count": 169,
     "metadata": {},
     "output_type": "execute_result"
    }
   ],
   "source": [
    "#Dal dataframe di sopra prendo solo le somministrazioni con Johnson & Johnson. Ordino così il dataframe raggrupandolo per fascia d'età e sommando le prime dosi della fascia\n",
    "janssen_fasce = somministrazioni_vaccini[['fornitore','fascia_anagrafica', 'prima_dose']].loc[fornitore_fasce['fornitore'] == 'Janssen'].groupby('fascia_anagrafica')['prima_dose'].sum().reset_index()\n",
    "janssen_fasce #Janssen è monodose"
   ]
  },
  {
   "cell_type": "markdown",
   "metadata": {},
   "source": [
    "### Numero abitanti per fascia anagrafica"
   ]
  },
  {
   "cell_type": "code",
   "execution_count": 170,
   "metadata": {},
   "outputs": [],
   "source": [
    "#Salvo nelle variabili il numero di persone totali facenti parte nella rispettiva fascia anagrafica (Fonte: ISTAT 2020)\n",
    "decenn = 2871056 #16-19\n",
    "ventenn = 2955888 + 3128494 #20-29\n",
    "trentenn = 3282441 + 3572191 #30-39\n",
    "quarantenn = 4187464 + 4749765 #40-49\n",
    "cinquantenn = 4876704 + 4537491 #50-59\n",
    "sessantenn = 3893350 + 3471014 #60-69\n",
    "settantenn = 3324360 + 2644013 #70-79\n",
    "ottantenn = 2231536 + 1396624 #80-89\n",
    "ultranovant = 616360 + 160379 + 14804 #90+"
   ]
  },
  {
   "cell_type": "code",
   "execution_count": 171,
   "metadata": {},
   "outputs": [],
   "source": [
    "#Preparo le variabili da inviare alla funzione per creare i grafici\n",
    "\n",
    "#Fascia 16-19\n",
    "vaccinati19 = anagrafica.loc[anagrafica['fascia_anagrafica'] == '16-19']['seconda_dose'] + janssen_fasce['prima_dose'][0]\n",
    "primadose19 = anagrafica.loc[anagrafica['fascia_anagrafica'] == '16-19']['prima_dose'] - vaccinati19\n",
    "nonvax19 = (decenn - (primadose19+vaccinati19))\n",
    "#Fascia 20-29\n",
    "vaccinati29 = anagrafica.loc[anagrafica['fascia_anagrafica'] == '20-29']['seconda_dose'] + janssen_fasce['prima_dose'][1]\n",
    "primadose29 = anagrafica.loc[anagrafica['fascia_anagrafica'] == '20-29']['prima_dose'] - vaccinati29\n",
    "nonvax29 = (ventenn - (primadose29+vaccinati29))\n",
    "#Fascia 30-39\n",
    "vaccinati39 = anagrafica.loc[anagrafica['fascia_anagrafica'] == '30-39']['seconda_dose'] + janssen_fasce['prima_dose'][2]\n",
    "primadose39 = anagrafica.loc[anagrafica['fascia_anagrafica'] == '30-39']['prima_dose'] - vaccinati39\n",
    "nonvax39 = (trentenn - (primadose39+vaccinati39))\n",
    "#Fascia 40-49\n",
    "vaccinati49 = anagrafica.loc[anagrafica['fascia_anagrafica'] == '40-49']['seconda_dose'] + janssen_fasce['prima_dose'][3]\n",
    "primadose49 = anagrafica.loc[anagrafica['fascia_anagrafica'] == '40-49']['prima_dose'] - vaccinati49\n",
    "nonvax49 = (quarantenn - (primadose49+vaccinati49))\n",
    "#Fascia 50-59\n",
    "vaccinati59 = anagrafica.loc[anagrafica['fascia_anagrafica'] == '50-59']['seconda_dose'] + janssen_fasce['prima_dose'][4]\n",
    "primadose59 = anagrafica.loc[anagrafica['fascia_anagrafica'] == '50-59']['prima_dose'] - vaccinati59\n",
    "nonvax59 = (cinquantenn - (primadose59+vaccinati59))\n",
    "#Fascia 60-69\n",
    "vaccinati69 = anagrafica.loc[anagrafica['fascia_anagrafica'] == '60-69']['seconda_dose'] + janssen_fasce['prima_dose'][5]\n",
    "primadose69 = anagrafica.loc[anagrafica['fascia_anagrafica'] == '60-69']['prima_dose'] - vaccinati69\n",
    "nonvax69 = (sessantenn - (primadose69+vaccinati69))\n",
    "#Fascia 70-79\n",
    "vaccinati79 = anagrafica.loc[anagrafica['fascia_anagrafica'] == '70-79']['seconda_dose'] + janssen_fasce['prima_dose'][6]\n",
    "primadose79 = anagrafica.loc[anagrafica['fascia_anagrafica'] == '70-79']['prima_dose'] - vaccinati79\n",
    "nonvax79 = (settantenn - (primadose79+vaccinati79))\n",
    "#Fascia 80-89\n",
    "vaccinati89 = anagrafica.loc[anagrafica['fascia_anagrafica'] == '80-89']['seconda_dose'] + janssen_fasce['prima_dose'][7]\n",
    "primadose89 = anagrafica.loc[anagrafica['fascia_anagrafica'] == '80-89']['prima_dose'] - vaccinati89\n",
    "nonvax89 = (ottantenn - (primadose89+vaccinati89))\n",
    "#Fascia 90-longlife\n",
    "vaccinati99 = anagrafica.loc[anagrafica['fascia_anagrafica'] == '90+']['seconda_dose'] + janssen_fasce['prima_dose'][8]\n",
    "primadose99 = anagrafica.loc[anagrafica['fascia_anagrafica'] == '90+']['prima_dose'] - vaccinati99\n",
    "nonvax99 = (ultranovant - (primadose99+vaccinati99))"
   ]
  },
  {
   "cell_type": "markdown",
   "metadata": {},
   "source": [
    "## Creazione grafici"
   ]
  },
  {
   "cell_type": "code",
   "execution_count": 172,
   "metadata": {
    "scrolled": false
   },
   "outputs": [
    {
     "data": {
      "image/png": "[encoded data removed]",
      "text/plain": [
       "<Figure size 432x288 with 1 Axes>"
      ]
     },
     "metadata": {},
     "output_type": "display_data"
    },
    {
     "data": {
      "image/png": "[encoded data removed]",
      "text/plain": [
       "<Figure size 432x288 with 1 Axes>"
      ]
     },
     "metadata": {},
     "output_type": "display_data"
    },
    {
     "data": {
      "image/png": "[encoded data removed]",
      "text/plain": [
       "<Figure size 432x288 with 1 Axes>"
      ]
     },
     "metadata": {},
     "output_type": "display_data"
    },
    {
     "data": {
      "image/png": "[encoded data removed]",
      "text/plain": [
       "<Figure size 432x288 with 1 Axes>"
      ]
     },
     "metadata": {},
     "output_type": "display_data"
    },
    {
     "data": {
      "image/png": "[encoded data removed]",
      "text/plain": [
       "<Figure size 432x288 with 1 Axes>"
      ]
     },
     "metadata": {},
     "output_type": "display_data"
    },
    {
     "data": {
      "image/png": "[encoded data removed]",
      "text/plain": [
       "<Figure size 432x288 with 1 Axes>"
      ]
     },
     "metadata": {},
     "output_type": "display_data"
    },
    {
     "data": {
      "image/png": "[encoded data removed]",
      "text/plain": [
       "<Figure size 432x288 with 1 Axes>"
      ]
     },
     "metadata": {},
     "output_type": "display_data"
    },
    {
     "data": {
      "image/png": "[encoded data removed]",
      "text/plain": [
       "<Figure size 432x288 with 1 Axes>"
      ]
     },
     "metadata": {},
     "output_type": "display_data"
    },
    {
     "data": {
      "image/png": "[encoded data removed]",
      "text/plain": [
       "<Figure size 432x288 with 1 Axes>"
      ]
     },
     "metadata": {},
     "output_type": "display_data"
    }
   ],
   "source": [
    "pie_graph_3values(vaccinati19, primadose19, nonvax19[0], \"Fascia 16-19\")\n",
    "pie_graph_3values(vaccinati29, primadose29, nonvax29[1], \"Fascia 20-29\")\n",
    "pie_graph_3values(vaccinati39, primadose39, nonvax39[2], \"Fascia 30-39\")\n",
    "pie_graph_3values(vaccinati49, primadose49, nonvax49[3], \"Fascia 40-49\")\n",
    "pie_graph_3values(vaccinati59, primadose59, nonvax59[4], \"Fascia 50-59\")\n",
    "pie_graph_3values(vaccinati69, primadose69, nonvax69[5], \"Fascia 60-69\")\n",
    "pie_graph_3values(vaccinati79, primadose79, nonvax79[6], \"Fascia 70-79\")\n",
    "pie_graph_3values(vaccinati89, primadose89, nonvax89[7], \"Fascia 80-89\")\n",
    "pie_graph_3values(vaccinati99, primadose99, nonvax99[8], \"Fascia ultra novantenni\")\n"
   ]
  },
  {
   "cell_type": "markdown",
   "metadata": {},
   "source": [
    "# Curiosità: Quanti vaccinati per \"altre\" esigenze "
   ]
  },
  {
   "cell_type": "code",
   "execution_count": 173,
   "metadata": {},
   "outputs": [
    {
     "data": {
      "text/html": [
       "<div>\n",
       "<style scoped>\n",
       "    .dataframe tbody tr th:only-of-type {\n",
       "        vertical-align: middle;\n",
       "    }\n",
       "\n",
       "    .dataframe tbody tr th {\n",
       "        vertical-align: top;\n",
       "    }\n",
       "\n",
       "    .dataframe thead th {\n",
       "        text-align: right;\n",
       "    }\n",
       "</style>\n",
       "<table border=\"1\" class=\"dataframe\">\n",
       "  <thead>\n",
       "    <tr style=\"text-align: right;\">\n",
       "      <th></th>\n",
       "      <th>nome_area</th>\n",
       "      <th>categoria_altro</th>\n",
       "    </tr>\n",
       "  </thead>\n",
       "  <tbody>\n",
       "    <tr>\n",
       "      <th>18</th>\n",
       "      <td>Umbria</td>\n",
       "      <td>1698</td>\n",
       "    </tr>\n",
       "    <tr>\n",
       "      <th>10</th>\n",
       "      <td>Molise</td>\n",
       "      <td>2045</td>\n",
       "    </tr>\n",
       "    <tr>\n",
       "      <th>19</th>\n",
       "      <td>Valle d'Aosta / Vallée d'Aoste</td>\n",
       "      <td>2698</td>\n",
       "    </tr>\n",
       "    <tr>\n",
       "      <th>1</th>\n",
       "      <td>Basilicata</td>\n",
       "      <td>9361</td>\n",
       "    </tr>\n",
       "    <tr>\n",
       "      <th>5</th>\n",
       "      <td>Friuli-Venezia Giulia</td>\n",
       "      <td>11362</td>\n",
       "    </tr>\n",
       "    <tr>\n",
       "      <th>9</th>\n",
       "      <td>Marche</td>\n",
       "      <td>12923</td>\n",
       "    </tr>\n",
       "    <tr>\n",
       "      <th>11</th>\n",
       "      <td>Piemonte</td>\n",
       "      <td>12948</td>\n",
       "    </tr>\n",
       "    <tr>\n",
       "      <th>15</th>\n",
       "      <td>Sardegna</td>\n",
       "      <td>16337</td>\n",
       "    </tr>\n",
       "    <tr>\n",
       "      <th>0</th>\n",
       "      <td>Abruzzo</td>\n",
       "      <td>18159</td>\n",
       "    </tr>\n",
       "    <tr>\n",
       "      <th>7</th>\n",
       "      <td>Liguria</td>\n",
       "      <td>26870</td>\n",
       "    </tr>\n",
       "    <tr>\n",
       "      <th>13</th>\n",
       "      <td>Provincia Autonoma Trento</td>\n",
       "      <td>27424</td>\n",
       "    </tr>\n",
       "    <tr>\n",
       "      <th>12</th>\n",
       "      <td>Provincia Autonoma Bolzano / Bozen</td>\n",
       "      <td>28951</td>\n",
       "    </tr>\n",
       "    <tr>\n",
       "      <th>17</th>\n",
       "      <td>Toscana</td>\n",
       "      <td>36938</td>\n",
       "    </tr>\n",
       "    <tr>\n",
       "      <th>14</th>\n",
       "      <td>Puglia</td>\n",
       "      <td>38330</td>\n",
       "    </tr>\n",
       "    <tr>\n",
       "      <th>4</th>\n",
       "      <td>Emilia-Romagna</td>\n",
       "      <td>51100</td>\n",
       "    </tr>\n",
       "    <tr>\n",
       "      <th>2</th>\n",
       "      <td>Calabria</td>\n",
       "      <td>51738</td>\n",
       "    </tr>\n",
       "    <tr>\n",
       "      <th>16</th>\n",
       "      <td>Sicilia</td>\n",
       "      <td>116218</td>\n",
       "    </tr>\n",
       "    <tr>\n",
       "      <th>8</th>\n",
       "      <td>Lombardia</td>\n",
       "      <td>119000</td>\n",
       "    </tr>\n",
       "    <tr>\n",
       "      <th>20</th>\n",
       "      <td>Veneto</td>\n",
       "      <td>175179</td>\n",
       "    </tr>\n",
       "    <tr>\n",
       "      <th>6</th>\n",
       "      <td>Lazio</td>\n",
       "      <td>246862</td>\n",
       "    </tr>\n",
       "    <tr>\n",
       "      <th>3</th>\n",
       "      <td>Campania</td>\n",
       "      <td>314390</td>\n",
       "    </tr>\n",
       "  </tbody>\n",
       "</table>\n",
       "</div>"
      ],
      "text/plain": [
       "                             nome_area  categoria_altro\n",
       "18                              Umbria             1698\n",
       "10                              Molise             2045\n",
       "19      Valle d'Aosta / Vallée d'Aoste             2698\n",
       "1                           Basilicata             9361\n",
       "5                Friuli-Venezia Giulia            11362\n",
       "9                               Marche            12923\n",
       "11                            Piemonte            12948\n",
       "15                            Sardegna            16337\n",
       "0                              Abruzzo            18159\n",
       "7                              Liguria            26870\n",
       "13           Provincia Autonoma Trento            27424\n",
       "12  Provincia Autonoma Bolzano / Bozen            28951\n",
       "17                             Toscana            36938\n",
       "14                              Puglia            38330\n",
       "4                       Emilia-Romagna            51100\n",
       "2                             Calabria            51738\n",
       "16                             Sicilia           116218\n",
       "8                            Lombardia           119000\n",
       "20                              Veneto           175179\n",
       "6                                Lazio           246862\n",
       "3                             Campania           314390"
      ]
     },
     "execution_count": 173,
     "metadata": {},
     "output_type": "execute_result"
    }
   ],
   "source": [
    "#Persone che fanno vaccini con categoria Altro divisi per regione e età\n",
    "furbetti_altro_eta = somministrazioni_vaccini[['fascia_anagrafica', 'categoria_altro']].groupby('fascia_anagrafica')['categoria_altro'].sum().reset_index()\n",
    "furbetti_altro_regione = somministrazioni_vaccini[['nome_area', 'categoria_altro']].groupby('nome_area')['categoria_altro'].sum().reset_index()\n",
    "furbetti_altro_regione.sort_values(by=['categoria_altro'])"
   ]
  },
  {
   "cell_type": "markdown",
   "metadata": {},
   "source": [
    "# Fornitore per fascia di età"
   ]
  },
  {
   "cell_type": "code",
   "execution_count": 174,
   "metadata": {},
   "outputs": [
    {
     "data": {
      "text/plain": [
       "Text(0, 0.5, 'Dosi somministrate')"
      ]
     },
     "execution_count": 174,
     "metadata": {},
     "output_type": "execute_result"
    },
    {
     "data": {
      "image/png": "[encoded data removed]",
      "text/plain": [
       "<Figure size 432x288 with 1 Axes>"
      ]
     },
     "metadata": {
      "needs_background": "light"
     },
     "output_type": "display_data"
    }
   ],
   "source": [
    "#Vogliamo conoscere il fornitore che vaccina di piu per fascia di età\n",
    "fasce = fornitore_fasce.groupby(['fornitore', 'fascia_anagrafica'])['prima_dose'].sum().reindex().unstack()\n",
    "\n",
    "fasce.plot(kind=\"bar\")\n",
    "plot.title(\"Fornitore per fasce d'età\")\n",
    "plot.xlabel(\"Fornitore\")\n",
    "plot.ylabel(\"Dosi somministrate\")"
   ]
  },
  {
   "cell_type": "markdown",
   "metadata": {},
   "source": [
    "### Funzione"
   ]
  },
  {
   "cell_type": "code",
   "execution_count": 175,
   "metadata": {},
   "outputs": [],
   "source": [
    "#Creo la funzione per generare grafici a torta\n",
    "def pie_graph_fornitore(fascia, title):\n",
    "    \n",
    "    labels = fascia.index[0], fascia.index[1], fascia.index[2], fascia.index[3]\n",
    "\n",
    "    sizes = [fascia[0], fascia[1], fascia[2], fascia[3]]\n",
    "    explode = (0, 0, 0, 0)\n",
    "    colors = ['#2EC4B6','#FDD001','#E31E82', '#0065CC']\n",
    "\n",
    "    fig1, ax1 = plot.subplots()\n",
    "    ax1.pie(sizes, explode=explode,\n",
    "        shadow=True, startangle=90, colors=colors )\n",
    "    #  autopct='%1.1f%%' <- Per avere percentuale su torta, utile per l'infografica\n",
    "    ax1.axis('equal')\n",
    "    plot.legend( labels, loc=\"best\")\n",
    "    plot.title(title) \n",
    "    #plot.savefig(fname='grafico_' + title + '.svg')\n",
    "\n",
    "\n",
    "    return (plot.show())"
   ]
  },
  {
   "cell_type": "code",
   "execution_count": 176,
   "metadata": {
    "scrolled": false
   },
   "outputs": [
    {
     "data": {
      "image/png": "[encoded data removed]",
      "text/plain": [
       "<Figure size 432x288 with 1 Axes>"
      ]
     },
     "metadata": {},
     "output_type": "display_data"
    },
    {
     "data": {
      "image/png": "[encoded data removed]",
      "text/plain": [
       "<Figure size 432x288 with 1 Axes>"
      ]
     },
     "metadata": {},
     "output_type": "display_data"
    },
    {
     "data": {
      "image/png": "[encoded data removed]",
      "text/plain": [
       "<Figure size 432x288 with 1 Axes>"
      ]
     },
     "metadata": {},
     "output_type": "display_data"
    },
    {
     "data": {
      "image/png": "[encoded data removed]",
      "text/plain": [
       "<Figure size 432x288 with 1 Axes>"
      ]
     },
     "metadata": {},
     "output_type": "display_data"
    },
    {
     "data": {
      "image/png": "[encoded data removed]",
      "text/plain": [
       "<Figure size 432x288 with 1 Axes>"
      ]
     },
     "metadata": {},
     "output_type": "display_data"
    },
    {
     "data": {
      "image/png": "[encoded data removed]",
      "text/plain": [
       "<Figure size 432x288 with 1 Axes>"
      ]
     },
     "metadata": {},
     "output_type": "display_data"
    },
    {
     "data": {
      "image/png": "[encoded data removed]",
      "text/plain": [
       "<Figure size 432x288 with 1 Axes>"
      ]
     },
     "metadata": {},
     "output_type": "display_data"
    },
    {
     "data": {
      "image/png": "[encoded data removed]",
      "text/plain": [
       "<Figure size 432x288 with 1 Axes>"
      ]
     },
     "metadata": {},
     "output_type": "display_data"
    },
    {
     "data": {
      "image/png": "[encoded data removed]",
      "text/plain": [
       "<Figure size 432x288 with 1 Axes>"
      ]
     },
     "metadata": {},
     "output_type": "display_data"
    }
   ],
   "source": [
    "pie_graph_fornitore(fasce['16-19'], \"Fascia 16-19\")\n",
    "pie_graph_fornitore(fasce['20-29'], \"Fascia 20-29\")\n",
    "pie_graph_fornitore(fasce['30-39'], \"Fascia 30-39\")\n",
    "pie_graph_fornitore(fasce['40-49'], \"Fascia 40-49\")\n",
    "pie_graph_fornitore(fasce['50-59'], \"Fascia 50-59\")\n",
    "pie_graph_fornitore(fasce['60-69'], \"Fascia 60-69\")\n",
    "pie_graph_fornitore(fasce['70-79'], \"Fascia 70-79\")\n",
    "pie_graph_fornitore(fasce['80-89'], \"Fascia 80-89\")\n",
    "pie_graph_fornitore(fasce['90+'], \"Fascia ultranovantenni\")"
   ]
  },
  {
   "cell_type": "markdown",
   "metadata": {},
   "source": [
    "# Grafici Treemap quadrati"
   ]
  },
  {
   "cell_type": "code",
   "execution_count": 177,
   "metadata": {},
   "outputs": [
    {
     "data": {
      "text/plain": [
       "fornitore\n",
       "Janssen                      505800\n",
       "Moderna                     2607700\n",
       "Pfizer/BioNTech            19998810\n",
       "Vaxzevria (AstraZeneca)     7019480\n",
       "Name: numero_dosi, dtype: int64"
      ]
     },
     "execution_count": 177,
     "metadata": {},
     "output_type": "execute_result"
    }
   ],
   "source": [
    "#Mi prendo solo i fornitori e il numero di dosi che hanno consegnato in totale\n",
    "dosi_tot_fornitore = consegne_vaccini_latest[['fornitore', 'numero_dosi']].groupby('fornitore')['numero_dosi'].sum()\n",
    "\n",
    "dosi_tot_fornitore #Totale dosi consegnate per azienda"
   ]
  },
  {
   "cell_type": "code",
   "execution_count": 178,
   "metadata": {},
   "outputs": [
    {
     "data": {
      "image/png": "[encoded data removed]",
      "text/plain": [
       "<Figure size 432x288 with 1 Axes>"
      ]
     },
     "metadata": {
      "needs_background": "light"
     },
     "output_type": "display_data"
    }
   ],
   "source": [
    "sizes = [dosi_tot_fornitore[0], dosi_tot_fornitore[1], dosi_tot_fornitore[2], dosi_tot_fornitore[3]]\n",
    "label=[dosi_tot_fornitore.index[0], dosi_tot_fornitore.index[1], dosi_tot_fornitore.index[2], dosi_tot_fornitore.index[3]]\n",
    "colors = ['#2EC4B6','#FDD001','#E31E82', '#0065CC']\n",
    "sqr.plot(sizes, label = label, color = colors)\n",
    "plot.axis('off')\n",
    "#plot.savefig(fname='treemap.svg')\n",
    "plot.show()"
   ]
  },
  {
   "cell_type": "markdown",
   "metadata": {},
   "source": [
    "# Grafico lineare\n",
    "### Andamento somministrazioni giornaliero"
   ]
  },
  {
   "cell_type": "code",
   "execution_count": 179,
   "metadata": {},
   "outputs": [],
   "source": [
    "#Voglio sapere quante dosi vengono somministrate giornalmente e conoscere il picco\n",
    "daily_andam = somministrazioni_vaccini_sl[['totale', 'data_somministrazione']].groupby('data_somministrazione')['totale'].sum()"
   ]
  },
  {
   "cell_type": "code",
   "execution_count": 180,
   "metadata": {},
   "outputs": [
    {
     "data": {
      "image/png": "[encoded data removed]",
      "text/plain": [
       "<Figure size 1440x288 with 1 Axes>"
      ]
     },
     "metadata": {
      "needs_background": "light"
     },
     "output_type": "display_data"
    }
   ],
   "source": [
    "fig, ax = plot.subplots()\n",
    "\n",
    "values = daily_andam.tolist()\n",
    "labels = daily_andam.index.tolist()\n",
    "\n",
    "\n",
    "width = 0.8\n",
    "\n",
    "ax.bar(labels, values, width, label='Data somministrazione')\n",
    "\n",
    "ax.set_ylabel('Numero dosi giornaliere')\n",
    "ax.set_title('Dosi somministrate per data')\n",
    "\n",
    "plot.xticks(labels[::5],  rotation='vertical')\n",
    "\n",
    "fig.autofmt_xdate()\n",
    "\n",
    "fig.set_size_inches(20, 4, forward=True)\n",
    "\n",
    "#plot.savefig(fname='grafico_stackedbarplot.svg')\n",
    "plot.show(range(len(labels)), values)"
   ]
  },
  {
   "cell_type": "code",
   "execution_count": 181,
   "metadata": {},
   "outputs": [
    {
     "data": {
      "text/plain": [
       "480716"
      ]
     },
     "execution_count": 181,
     "metadata": {},
     "output_type": "execute_result"
    }
   ],
   "source": [
    "#Mi prendo l'andamento degli ultimi 7 giorni per farci una media delle somministrazioni\n",
    "media_sommin = int(daily_andam[-7:].mean())\n",
    "media_sommin "
   ]
  },
  {
   "cell_type": "code",
   "execution_count": 182,
   "metadata": {},
   "outputs": [
    {
     "name": "stdout",
     "output_type": "stream",
     "text": [
      "nome_area\n",
      "Abruzzo                                422732\n",
      "Basilicata                             186665\n",
      "Calabria                               561345\n",
      "Campania                              1837436\n",
      "Emilia-Romagna                        1471158\n",
      "Friuli-Venezia Giulia                  389423\n",
      "Lazio                                 1855282\n",
      "Liguria                                512937\n",
      "Lombardia                             3448566\n",
      "Marche                                 488813\n",
      "Molise                                 104814\n",
      "Piemonte                              1384975\n",
      "Provincia Autonoma Bolzano / Bozen     181610\n",
      "Provincia Autonoma Trento              192377\n",
      "Puglia                                1320702\n",
      "Sardegna                               487545\n",
      "Sicilia                               1363048\n",
      "Toscana                               1136403\n",
      "Umbria                                 281923\n",
      "Valle d'Aosta / Vallée d'Aoste          41062\n",
      "Veneto                                1665773\n",
      "Name: prima_dose, dtype: int64\n"
     ]
    }
   ],
   "source": [
    "#Prendo anche il numero di persone con una dose in ogni singola regione\n",
    "sommin_region = somministrazioni_vaccini[['nome_area', 'prima_dose']].groupby('nome_area')['prima_dose'].sum()\n",
    "print(sommin_region)"
   ]
  },
  {
   "cell_type": "code",
   "execution_count": 183,
   "metadata": {},
   "outputs": [],
   "source": [
    "#Mi calcolo la percentuale delle persone rispetto al numero di abitanti (Fonte: ISTAT Gennaio 2021)\n",
    "popAbr = (sommin_region[0]/1322247)*100\n",
    "popBas = (sommin_region[1]/570365)*100\n",
    "popCal = (sommin_region[2]/1965128)*100\n",
    "popCam = (sommin_region[3]/5839084)*100\n",
    "popEmR = (sommin_region[4]/4448841)*100\n",
    "popFvg = (sommin_region[5]/1217872)*100\n",
    "popLaz = (sommin_region[6]/5898124)*100\n",
    "popLig = (sommin_region[7]/1565307)*100\n",
    "popLom = (sommin_region[8]/10018806)*100\n",
    "popMar = (sommin_region[9]/1538055)*100\n",
    "popMol = (sommin_region[10]/310449)*100\n",
    "popPie = (sommin_region[11]/4392526)*100\n",
    "popBoz = (sommin_region[12]/533715)*100\n",
    "popTre = (sommin_region[13]/544745)*100\n",
    "popPug = (sommin_region[14]/4063888)*100\n",
    "popSar = (sommin_region[15]/1653135)*100\n",
    "popSic = (sommin_region[16]/5056641)*100\n",
    "popTos = (sommin_region[17]/3742437)*100\n",
    "popUmb = (sommin_region[18]/888908)*100\n",
    "popVda = (sommin_region[19]/126883)*100\n",
    "popVen = (sommin_region[20]/4907529)*100"
   ]
  },
  {
   "cell_type": "code",
   "execution_count": 184,
   "metadata": {},
   "outputs": [
    {
     "name": "stdout",
     "output_type": "stream",
     "text": [
      "                               Regione   Rapporto\n",
      "16                             Sicilia  26.955602\n",
      "2                             Calabria  28.565315\n",
      "15                            Sardegna  29.492147\n",
      "17                             Toscana  30.365321\n",
      "6                                Lazio  31.455459\n",
      "3                             Campania  31.467881\n",
      "11                            Piemonte  31.530263\n",
      "18                              Umbria  31.715656\n",
      "9                               Marche  31.781243\n",
      "0                              Abruzzo  31.970729\n",
      "5                Friuli-Venezia Giulia  31.975692\n",
      "19      Valle d'Aosta / Vallée d'Aoste  32.362097\n",
      "14                              Puglia  32.498484\n",
      "1                           Basilicata  32.727289\n",
      "7                              Liguria  32.769099\n",
      "4                       Emilia-Romagna  33.068343\n",
      "10                              Molise  33.762067\n",
      "20                              Veneto  33.943213\n",
      "12  Provincia Autonoma Bolzano / Bozen  34.027524\n",
      "8                            Lombardia  34.420928\n",
      "13           Provincia Autonoma Trento  35.315056\n"
     ]
    }
   ],
   "source": [
    "#Creo un dataframe con queste statistiche\n",
    "data = {'Regione':  sommin_region.index.tolist(),\n",
    "        'Rapporto': [popAbr, popBas, popCal, popCam, popEmR, popFvg, popLaz, popLig, popLom, popMar, popMol, \n",
    "                     popPie, popBoz, popTre, popPug, popSar, popSic, popTos, popUmb, popVda, popVen]}\n",
    "rapp_rem = pd.DataFrame (data, columns = ['Regione','Rapporto'])\n",
    "\n",
    "print (rapp_rem.sort_values(by=['Rapporto']))"
   ]
  },
  {
   "cell_type": "code",
   "execution_count": 185,
   "metadata": {},
   "outputs": [
    {
     "data": {
      "text/plain": [
       "<AxesSubplot:xlabel='Regione'>"
      ]
     },
     "execution_count": 185,
     "metadata": {},
     "output_type": "execute_result"
    },
    {
     "data": {
      "image/png": "[encoded data removed]",
      "text/plain": [
       "<Figure size 432x288 with 1 Axes>"
      ]
     },
     "metadata": {
      "needs_background": "light"
     },
     "output_type": "display_data"
    }
   ],
   "source": [
    "#Ci faccio un grafico per conoscere il picco\n",
    "rapp_rem.plot(x='Regione', y='Rapporto', kind='bar')"
   ]
  },
  {
   "cell_type": "markdown",
   "metadata": {},
   "source": [
    "# Previsione fine campagna vaccinale con andamento medio di 459.397 dosi/giorno"
   ]
  },
  {
   "cell_type": "code",
   "execution_count": 186,
   "metadata": {},
   "outputs": [],
   "source": [
    "#Somministrazioni totali necessarie - totale somministrazioni effettuate / media\n",
    "#Uso 120.000.000 dosi come se dovessimo fare 2 dosi ciascuno, Janssen trascurabile (ad oggi)"
   ]
  },
  {
   "cell_type": "code",
   "execution_count": 187,
   "metadata": {},
   "outputs": [
    {
     "data": {
      "text/plain": [
       "191"
      ]
     },
     "execution_count": 187,
     "metadata": {},
     "output_type": "execute_result"
    }
   ],
   "source": [
    "giorni_mancanti = int(((60000000*2) - totale_sommin) / media_sommin)\n",
    "giorni_mancanti "
   ]
  },
  {
   "cell_type": "code",
   "execution_count": 188,
   "metadata": {},
   "outputs": [
    {
     "data": {
      "text/plain": [
       "datetime.date(2021, 11, 25)"
      ]
     },
     "execution_count": 188,
     "metadata": {},
     "output_type": "execute_result"
    }
   ],
   "source": [
    "#Aggiungo questi giorni alla data di oggi\n",
    "giorno_finale = date.today() + timedelta(days=giorni_mancanti)\n",
    "giorno_finale "
   ]
  },
  {
   "cell_type": "code",
   "execution_count": 189,
   "metadata": {},
   "outputs": [],
   "source": [
    "#Immunità di gregge (80% della popolazione, 48.000.000)"
   ]
  },
  {
   "cell_type": "code",
   "execution_count": 190,
   "metadata": {},
   "outputs": [
    {
     "data": {
      "text/plain": [
       "141"
      ]
     },
     "execution_count": 190,
     "metadata": {},
     "output_type": "execute_result"
    }
   ],
   "source": [
    "gm_immun = int(((48000000*2) - totale_sommin)/ media_sommin)\n",
    "gm_immun "
   ]
  },
  {
   "cell_type": "code",
   "execution_count": 191,
   "metadata": {},
   "outputs": [
    {
     "data": {
      "text/plain": [
       "datetime.date(2021, 10, 6)"
      ]
     },
     "execution_count": 191,
     "metadata": {},
     "output_type": "execute_result"
    }
   ],
   "source": [
    "#Aggiungo questi giorni alla data di oggi\n",
    "giorno_finale = date.today() + timedelta(days=gm_immun)\n",
    "giorno_finale #Al momento è il 13 ottobre 2021"
   ]
  },
  {
   "cell_type": "markdown",
   "metadata": {},
   "source": [
    "# Radar plot andamento delle somministazioni giornaliere"
   ]
  },
  {
   "cell_type": "code",
   "execution_count": 236,
   "metadata": {},
   "outputs": [],
   "source": [
    "daysweek = [ 'Monday', 'Tuesday', 'Wednesday', 'Thursday', 'Friday', 'Saturday', 'Sunday']\n",
    "prima_sett = daily_andam[0:7] #Primi sette giorni di campagna\n",
    "mese_sett = daily_andam[31:38] #Primo mese di campagna\n",
    "mezz_sett = daily_andam[(daily_andam.size//2)-3:(daily_andam.size//2)+4] #7 giorni centrali\n",
    "infra_sett = daily_andam[-31:-24] #Tre settimane fa\n",
    "ultima_sett = daily_andam[-7:] #Ultimi 7 giorni"
   ]
  },
  {
   "cell_type": "code",
   "execution_count": 193,
   "metadata": {},
   "outputs": [],
   "source": [
    "#Dalla data mi ricavo il giorno della settimana e creo il dataframe - Prima settimana\n",
    "prima_sett_values = prima_sett.index.tolist()\n",
    "prima_sett_name = []\n",
    "\n",
    "for weekday in prima_sett_values:\n",
    "    weekday = datetime.datetime.strptime(weekday, '%Y-%m-%d')\n",
    "    prima_sett_name.append(calendar.day_name[weekday.date().weekday()])\n",
    "    \n",
    "prima_sett_dict = {'Giorno': prima_sett_name,\n",
    "                  'Somministrazioni': prima_sett}\n",
    "prima_sett_df = pd.DataFrame(prima_sett_dict, columns = ['Giorno','Somministrazioni']).groupby(['Giorno']).sum().reindex(daysweek)"
   ]
  },
  {
   "cell_type": "code",
   "execution_count": 237,
   "metadata": {},
   "outputs": [],
   "source": [
    "#Dalla data mi ricavo il giorno della settimana e creo il dataframe - Dopo il primo mese\n",
    "mese_sett_values = mese_sett.index.tolist()\n",
    "mese_sett_name = []\n",
    "\n",
    "for weekday in mese_sett_values:\n",
    "    weekday = datetime.datetime.strptime(weekday, '%Y-%m-%d')\n",
    "    mese_sett_name.append(calendar.day_name[weekday.date().weekday()])\n",
    "    \n",
    "mese_sett_dict = {'Giorno': mese_sett_name,\n",
    "                  'Somministrazioni': mese_sett}\n",
    "mese_sett_df = pd.DataFrame(mese_sett_dict, columns = ['Giorno','Somministrazioni']).groupby(['Giorno']).sum().reindex(daysweek)"
   ]
  },
  {
   "cell_type": "code",
   "execution_count": 194,
   "metadata": {},
   "outputs": [],
   "source": [
    "#Dalla data mi ricavo il giorno della settimana e creo il dataframe - Settimana centrale\n",
    "mezz_sett_values = mezz_sett.index.tolist()\n",
    "mezz_sett_name = []\n",
    "\n",
    "for weekday in mezz_sett_values:\n",
    "    weekday = datetime.datetime.strptime(weekday, '%Y-%m-%d')\n",
    "    mezz_sett_name.append(calendar.day_name[weekday.date().weekday()])\n",
    "    \n",
    "mezz_sett_dict = {'Giorno': mezz_sett_name,\n",
    "                  'Somministrazioni': mezz_sett}\n",
    "mezz_sett_df = pd.DataFrame(mezz_sett_dict, columns = ['Giorno','Somministrazioni']).groupby(['Giorno']).sum().reindex(daysweek)"
   ]
  },
  {
   "cell_type": "code",
   "execution_count": 238,
   "metadata": {},
   "outputs": [],
   "source": [
    "#Dalla data mi ricavo il giorno della settimana e creo il dataframe - Tre settimane fa\n",
    "infra_sett_values = infra_sett.index.tolist()\n",
    "infra_sett_name = []\n",
    "\n",
    "for weekday in infra_sett_values:\n",
    "    weekday = datetime.datetime.strptime(weekday, '%Y-%m-%d')\n",
    "    infra_sett_name.append(calendar.day_name[weekday.date().weekday()])\n",
    "    \n",
    "infra_sett_dict = {'Giorno': infra_sett_name,\n",
    "                  'Somministrazioni': infra_sett}\n",
    "infra_sett_df = pd.DataFrame(infra_sett_dict, columns = ['Giorno','Somministrazioni']).groupby(['Giorno']).sum().reindex(daysweek)"
   ]
  },
  {
   "cell_type": "code",
   "execution_count": 239,
   "metadata": {},
   "outputs": [],
   "source": [
    "#Dalla data mi ricavo il giorno della settimana e creo il dataframe - Ultima settimana\n",
    "ultima_sett_values = ultima_sett.index.tolist()\n",
    "ultima_sett_name = []\n",
    "\n",
    "for weekday in ultima_sett_values:\n",
    "    weekday = datetime.datetime.strptime(weekday, '%Y-%m-%d')\n",
    "    ultima_sett_name.append(calendar.day_name[weekday.date().weekday()])\n",
    "    \n",
    "ultima_sett_dict = {'Giorno': ultima_sett_name,\n",
    "                  'Somministrazioni': ultima_sett}\n",
    "ultima_sett_df = pd.DataFrame(ultima_sett_dict, columns = ['Giorno','Somministrazioni']).groupby(['Giorno']).sum().reindex(daysweek)"
   ]
  },
  {
   "cell_type": "code",
   "execution_count": 241,
   "metadata": {},
   "outputs": [
    {
     "data": {
      "application/vnd.plotly.v1+json": {
       "config": {
        "plotlyServerURL": "https://plot.ly"
       },
       "data": [
        {
         "fill": "toself",
         "name": "Ultima settimana",
         "r": [
          443698,
          450055,
          476227,
          517954,
          540673,
          532606,
          403799
         ],
         "theta": [
          "Lunedì",
          "Martedì",
          "Mercoledì",
          "Giovedì",
          "Venerdì",
          "Sabato",
          "Domenica"
         ],
         "type": "scatterpolar"
        },
        {
         "fill": "toself",
         "name": "Tre settimane fa",
         "r": [
          310031,
          332417,
          372051,
          397137,
          402647,
          357064,
          241247
         ],
         "theta": [
          "Lunedì",
          "Martedì",
          "Mercoledì",
          "Giovedì",
          "Venerdì",
          "Sabato",
          "Domenica"
         ],
         "type": "scatterpolar"
        },
        {
         "fill": "toself",
         "name": "Settimana centrale",
         "r": [
          178397,
          191153,
          211794,
          219145,
          203195,
          176382,
          101087
         ],
         "theta": [
          "Lunedì",
          "Martedì",
          "Mercoledì",
          "Giovedì",
          "Venerdì",
          "Sabato",
          "Domenica"
         ],
         "type": "scatterpolar"
        },
        {
         "fill": "toself",
         "name": "Quinta settimana",
         "r": [
          85601,
          87882,
          70866,
          93549,
          97887,
          90310,
          59571
         ],
         "theta": [
          "Lunedì",
          "Martedì",
          "Mercoledì",
          "Giovedì",
          "Venerdì",
          "Sabato",
          "Domenica"
         ],
         "type": "scatterpolar"
        },
        {
         "fill": "toself",
         "name": "Prima settimana",
         "r": [
          1426,
          1009,
          4728,
          25483,
          11061,
          38525,
          7179
         ],
         "theta": [
          "Lunedì",
          "Martedì",
          "Mercoledì",
          "Giovedì",
          "Venerdì",
          "Sabato",
          "Domenica"
         ],
         "type": "scatterpolar"
        }
       ],
       "layout": {
        "polar": {
         "radialaxis": {
          "range": [
           0,
           540673
          ],
          "visible": true
         }
        },
        "showlegend": true,
        "template": {
         "data": {
          "bar": [
           {
            "error_x": {
             "color": "#2a3f5f"
            },
            "error_y": {
             "color": "#2a3f5f"
            },
            "marker": {
             "line": {
              "color": "#E5ECF6",
              "width": 0.5
             }
            },
            "type": "bar"
           }
          ],
          "barpolar": [
           {
            "marker": {
             "line": {
              "color": "#E5ECF6",
              "width": 0.5
             }
            },
            "type": "barpolar"
           }
          ],
          "carpet": [
           {
            "aaxis": {
             "endlinecolor": "#2a3f5f",
             "gridcolor": "white",
             "linecolor": "white",
             "minorgridcolor": "white",
             "startlinecolor": "#2a3f5f"
            },
            "baxis": {
             "endlinecolor": "#2a3f5f",
             "gridcolor": "white",
             "linecolor": "white",
             "minorgridcolor": "white",
             "startlinecolor": "#2a3f5f"
            },
            "type": "carpet"
           }
          ],
          "choropleth": [
           {
            "colorbar": {
             "outlinewidth": 0,
             "ticks": ""
            },
            "type": "choropleth"
           }
          ],
          "contour": [
           {
            "colorbar": {
             "outlinewidth": 0,
             "ticks": ""
            },
            "colorscale": [
             [
              0,
              "#0d0887"
             ],
             [
              0.1111111111111111,
              "#46039f"
             ],
             [
              0.2222222222222222,
              "#7201a8"
             ],
             [
              0.3333333333333333,
              "#9c179e"
             ],
             [
              0.4444444444444444,
              "#bd3786"
             ],
             [
              0.5555555555555556,
              "#d8576b"
             ],
             [
              0.6666666666666666,
              "#ed7953"
             ],
             [
              0.7777777777777778,
              "#fb9f3a"
             ],
             [
              0.8888888888888888,
              "#fdca26"
             ],
             [
              1,
              "#f0f921"
             ]
            ],
            "type": "contour"
           }
          ],
          "contourcarpet": [
           {
            "colorbar": {
             "outlinewidth": 0,
             "ticks": ""
            },
            "type": "contourcarpet"
           }
          ],
          "heatmap": [
           {
            "colorbar": {
             "outlinewidth": 0,
             "ticks": ""
            },
            "colorscale": [
             [
              0,
              "#0d0887"
             ],
             [
              0.1111111111111111,
              "#46039f"
             ],
             [
              0.2222222222222222,
              "#7201a8"
             ],
             [
              0.3333333333333333,
              "#9c179e"
             ],
             [
              0.4444444444444444,
              "#bd3786"
             ],
             [
              0.5555555555555556,
              "#d8576b"
             ],
             [
              0.6666666666666666,
              "#ed7953"
             ],
             [
              0.7777777777777778,
              "#fb9f3a"
             ],
             [
              0.8888888888888888,
              "#fdca26"
             ],
             [
              1,
              "#f0f921"
             ]
            ],
            "type": "heatmap"
           }
          ],
          "heatmapgl": [
           {
            "colorbar": {
             "outlinewidth": 0,
             "ticks": ""
            },
            "colorscale": [
             [
              0,
              "#0d0887"
             ],
             [
              0.1111111111111111,
              "#46039f"
             ],
             [
              0.2222222222222222,
              "#7201a8"
             ],
             [
              0.3333333333333333,
              "#9c179e"
             ],
             [
              0.4444444444444444,
              "#bd3786"
             ],
             [
              0.5555555555555556,
              "#d8576b"
             ],
             [
              0.6666666666666666,
              "#ed7953"
             ],
             [
              0.7777777777777778,
              "#fb9f3a"
             ],
             [
              0.8888888888888888,
              "#fdca26"
             ],
             [
              1,
              "#f0f921"
             ]
            ],
            "type": "heatmapgl"
           }
          ],
          "histogram": [
           {
            "marker": {
             "colorbar": {
              "outlinewidth": 0,
              "ticks": ""
             }
            },
            "type": "histogram"
           }
          ],
          "histogram2d": [
           {
            "colorbar": {
             "outlinewidth": 0,
             "ticks": ""
            },
            "colorscale": [
             [
              0,
              "#0d0887"
             ],
             [
              0.1111111111111111,
              "#46039f"
             ],
             [
              0.2222222222222222,
              "#7201a8"
             ],
             [
              0.3333333333333333,
              "#9c179e"
             ],
             [
              0.4444444444444444,
              "#bd3786"
             ],
             [
              0.5555555555555556,
              "#d8576b"
             ],
             [
              0.6666666666666666,
              "#ed7953"
             ],
             [
              0.7777777777777778,
              "#fb9f3a"
             ],
             [
              0.8888888888888888,
              "#fdca26"
             ],
             [
              1,
              "#f0f921"
             ]
            ],
            "type": "histogram2d"
           }
          ],
          "histogram2dcontour": [
           {
            "colorbar": {
             "outlinewidth": 0,
             "ticks": ""
            },
            "colorscale": [
             [
              0,
              "#0d0887"
             ],
             [
              0.1111111111111111,
              "#46039f"
             ],
             [
              0.2222222222222222,
              "#7201a8"
             ],
             [
              0.3333333333333333,
              "#9c179e"
             ],
             [
              0.4444444444444444,
              "#bd3786"
             ],
             [
              0.5555555555555556,
              "#d8576b"
             ],
             [
              0.6666666666666666,
              "#ed7953"
             ],
             [
              0.7777777777777778,
              "#fb9f3a"
             ],
             [
              0.8888888888888888,
              "#fdca26"
             ],
             [
              1,
              "#f0f921"
             ]
            ],
            "type": "histogram2dcontour"
           }
          ],
          "mesh3d": [
           {
            "colorbar": {
             "outlinewidth": 0,
             "ticks": ""
            },
            "type": "mesh3d"
           }
          ],
          "parcoords": [
           {
            "line": {
             "colorbar": {
              "outlinewidth": 0,
              "ticks": ""
             }
            },
            "type": "parcoords"
           }
          ],
          "pie": [
           {
            "automargin": true,
            "type": "pie"
           }
          ],
          "scatter": [
           {
            "marker": {
             "colorbar": {
              "outlinewidth": 0,
              "ticks": ""
             }
            },
            "type": "scatter"
           }
          ],
          "scatter3d": [
           {
            "line": {
             "colorbar": {
              "outlinewidth": 0,
              "ticks": ""
             }
            },
            "marker": {
             "colorbar": {
              "outlinewidth": 0,
              "ticks": ""
             }
            },
            "type": "scatter3d"
           }
          ],
          "scattercarpet": [
           {
            "marker": {
             "colorbar": {
              "outlinewidth": 0,
              "ticks": ""
             }
            },
            "type": "scattercarpet"
           }
          ],
          "scattergeo": [
           {
            "marker": {
             "colorbar": {
              "outlinewidth": 0,
              "ticks": ""
             }
            },
            "type": "scattergeo"
           }
          ],
          "scattergl": [
           {
            "marker": {
             "colorbar": {
              "outlinewidth": 0,
              "ticks": ""
             }
            },
            "type": "scattergl"
           }
          ],
          "scattermapbox": [
           {
            "marker": {
             "colorbar": {
              "outlinewidth": 0,
              "ticks": ""
             }
            },
            "type": "scattermapbox"
           }
          ],
          "scatterpolar": [
           {
            "marker": {
             "colorbar": {
              "outlinewidth": 0,
              "ticks": ""
             }
            },
            "type": "scatterpolar"
           }
          ],
          "scatterpolargl": [
           {
            "marker": {
             "colorbar": {
              "outlinewidth": 0,
              "ticks": ""
             }
            },
            "type": "scatterpolargl"
           }
          ],
          "scatterternary": [
           {
            "marker": {
             "colorbar": {
              "outlinewidth": 0,
              "ticks": ""
             }
            },
            "type": "scatterternary"
           }
          ],
          "surface": [
           {
            "colorbar": {
             "outlinewidth": 0,
             "ticks": ""
            },
            "colorscale": [
             [
              0,
              "#0d0887"
             ],
             [
              0.1111111111111111,
              "#46039f"
             ],
             [
              0.2222222222222222,
              "#7201a8"
             ],
             [
              0.3333333333333333,
              "#9c179e"
             ],
             [
              0.4444444444444444,
              "#bd3786"
             ],
             [
              0.5555555555555556,
              "#d8576b"
             ],
             [
              0.6666666666666666,
              "#ed7953"
             ],
             [
              0.7777777777777778,
              "#fb9f3a"
             ],
             [
              0.8888888888888888,
              "#fdca26"
             ],
             [
              1,
              "#f0f921"
             ]
            ],
            "type": "surface"
           }
          ],
          "table": [
           {
            "cells": {
             "fill": {
              "color": "#EBF0F8"
             },
             "line": {
              "color": "white"
             }
            },
            "header": {
             "fill": {
              "color": "#C8D4E3"
             },
             "line": {
              "color": "white"
             }
            },
            "type": "table"
           }
          ]
         },
         "layout": {
          "annotationdefaults": {
           "arrowcolor": "#2a3f5f",
           "arrowhead": 0,
           "arrowwidth": 1
          },
          "autotypenumbers": "strict",
          "coloraxis": {
           "colorbar": {
            "outlinewidth": 0,
            "ticks": ""
           }
          },
          "colorscale": {
           "diverging": [
            [
             0,
             "#8e0152"
            ],
            [
             0.1,
             "#c51b7d"
            ],
            [
             0.2,
             "#de77ae"
            ],
            [
             0.3,
             "#f1b6da"
            ],
            [
             0.4,
             "#fde0ef"
            ],
            [
             0.5,
             "#f7f7f7"
            ],
            [
             0.6,
             "#e6f5d0"
            ],
            [
             0.7,
             "#b8e186"
            ],
            [
             0.8,
             "#7fbc41"
            ],
            [
             0.9,
             "#4d9221"
            ],
            [
             1,
             "#276419"
            ]
           ],
           "sequential": [
            [
             0,
             "#0d0887"
            ],
            [
             0.1111111111111111,
             "#46039f"
            ],
            [
             0.2222222222222222,
             "#7201a8"
            ],
            [
             0.3333333333333333,
             "#9c179e"
            ],
            [
             0.4444444444444444,
             "#bd3786"
            ],
            [
             0.5555555555555556,
             "#d8576b"
            ],
            [
             0.6666666666666666,
             "#ed7953"
            ],
            [
             0.7777777777777778,
             "#fb9f3a"
            ],
            [
             0.8888888888888888,
             "#fdca26"
            ],
            [
             1,
             "#f0f921"
            ]
           ],
           "sequentialminus": [
            [
             0,
             "#0d0887"
            ],
            [
             0.1111111111111111,
             "#46039f"
            ],
            [
             0.2222222222222222,
             "#7201a8"
            ],
            [
             0.3333333333333333,
             "#9c179e"
            ],
            [
             0.4444444444444444,
             "#bd3786"
            ],
            [
             0.5555555555555556,
             "#d8576b"
            ],
            [
             0.6666666666666666,
             "#ed7953"
            ],
            [
             0.7777777777777778,
             "#fb9f3a"
            ],
            [
             0.8888888888888888,
             "#fdca26"
            ],
            [
             1,
             "#f0f921"
            ]
           ]
          },
          "colorway": [
           "#636efa",
           "#EF553B",
           "#00cc96",
           "#ab63fa",
           "#FFA15A",
           "#19d3f3",
           "#FF6692",
           "#B6E880",
           "#FF97FF",
           "#FECB52"
          ],
          "font": {
           "color": "#2a3f5f"
          },
          "geo": {
           "bgcolor": "white",
           "lakecolor": "white",
           "landcolor": "#E5ECF6",
           "showlakes": true,
           "showland": true,
           "subunitcolor": "white"
          },
          "hoverlabel": {
           "align": "left"
          },
          "hovermode": "closest",
          "mapbox": {
           "style": "light"
          },
          "paper_bgcolor": "white",
          "plot_bgcolor": "#E5ECF6",
          "polar": {
           "angularaxis": {
            "gridcolor": "white",
            "linecolor": "white",
            "ticks": ""
           },
           "bgcolor": "#E5ECF6",
           "radialaxis": {
            "gridcolor": "white",
            "linecolor": "white",
            "ticks": ""
           }
          },
          "scene": {
           "xaxis": {
            "backgroundcolor": "#E5ECF6",
            "gridcolor": "white",
            "gridwidth": 2,
            "linecolor": "white",
            "showbackground": true,
            "ticks": "",
            "zerolinecolor": "white"
           },
           "yaxis": {
            "backgroundcolor": "#E5ECF6",
            "gridcolor": "white",
            "gridwidth": 2,
            "linecolor": "white",
            "showbackground": true,
            "ticks": "",
            "zerolinecolor": "white"
           },
           "zaxis": {
            "backgroundcolor": "#E5ECF6",
            "gridcolor": "white",
            "gridwidth": 2,
            "linecolor": "white",
            "showbackground": true,
            "ticks": "",
            "zerolinecolor": "white"
           }
          },
          "shapedefaults": {
           "line": {
            "color": "#2a3f5f"
           }
          },
          "ternary": {
           "aaxis": {
            "gridcolor": "white",
            "linecolor": "white",
            "ticks": ""
           },
           "baxis": {
            "gridcolor": "white",
            "linecolor": "white",
            "ticks": ""
           },
           "bgcolor": "#E5ECF6",
           "caxis": {
            "gridcolor": "white",
            "linecolor": "white",
            "ticks": ""
           }
          },
          "title": {
           "x": 0.05
          },
          "xaxis": {
           "automargin": true,
           "gridcolor": "white",
           "linecolor": "white",
           "ticks": "",
           "title": {
            "standoff": 15
           },
           "zerolinecolor": "white",
           "zerolinewidth": 2
          },
          "yaxis": {
           "automargin": true,
           "gridcolor": "white",
           "linecolor": "white",
           "ticks": "",
           "title": {
            "standoff": 15
           },
           "zerolinecolor": "white",
           "zerolinewidth": 2
          }
         }
        }
       }
      },
      "text/html": [
       "<div>                            <div id=\"4445030c-d912-45db-b246-d6b91e2ca24e\" class=\"plotly-graph-div\" style=\"height:525px; width:100%;\"></div>            <script type=\"text/javascript\">                require([\"plotly\"], function(Plotly) {                    window.PLOTLYENV=window.PLOTLYENV || {};                                    if (document.getElementById(\"4445030c-d912-45db-b246-d6b91e2ca24e\")) {                    Plotly.newPlot(                        \"4445030c-d912-45db-b246-d6b91e2ca24e\",                        [{\"fill\": \"toself\", \"name\": \"Ultima settimana\", \"r\": [443698, 450055, 476227, 517954, 540673, 532606, 403799], \"theta\": [\"Luned\\u00ec\", \"Marted\\u00ec\", \"Mercoled\\u00ec\", \"Gioved\\u00ec\", \"Venerd\\u00ec\", \"Sabato\", \"Domenica\"], \"type\": \"scatterpolar\"}, {\"fill\": \"toself\", \"name\": \"Tre settimane fa\", \"r\": [310031, 332417, 372051, 397137, 402647, 357064, 241247], \"theta\": [\"Luned\\u00ec\", \"Marted\\u00ec\", \"Mercoled\\u00ec\", \"Gioved\\u00ec\", \"Venerd\\u00ec\", \"Sabato\", \"Domenica\"], \"type\": \"scatterpolar\"}, {\"fill\": \"toself\", \"name\": \"Settimana centrale\", \"r\": [178397, 191153, 211794, 219145, 203195, 176382, 101087], \"theta\": [\"Luned\\u00ec\", \"Marted\\u00ec\", \"Mercoled\\u00ec\", \"Gioved\\u00ec\", \"Venerd\\u00ec\", \"Sabato\", \"Domenica\"], \"type\": \"scatterpolar\"}, {\"fill\": \"toself\", \"name\": \"Quinta settimana\", \"r\": [85601, 87882, 70866, 93549, 97887, 90310, 59571], \"theta\": [\"Luned\\u00ec\", \"Marted\\u00ec\", \"Mercoled\\u00ec\", \"Gioved\\u00ec\", \"Venerd\\u00ec\", \"Sabato\", \"Domenica\"], \"type\": \"scatterpolar\"}, {\"fill\": \"toself\", \"name\": \"Prima settimana\", \"r\": [1426, 1009, 4728, 25483, 11061, 38525, 7179], \"theta\": [\"Luned\\u00ec\", \"Marted\\u00ec\", \"Mercoled\\u00ec\", \"Gioved\\u00ec\", \"Venerd\\u00ec\", \"Sabato\", \"Domenica\"], \"type\": \"scatterpolar\"}],                        {\"polar\": {\"radialaxis\": {\"range\": [0, 540673], \"visible\": true}}, \"showlegend\": true, \"template\": {\"data\": {\"bar\": [{\"error_x\": {\"color\": \"#2a3f5f\"}, \"error_y\": {\"color\": \"#2a3f5f\"}, \"marker\": {\"line\": {\"color\": \"#E5ECF6\", \"width\": 0.5}}, \"type\": \"bar\"}], \"barpolar\": [{\"marker\": {\"line\": {\"color\": \"#E5ECF6\", \"width\": 0.5}}, \"type\": \"barpolar\"}], \"carpet\": [{\"aaxis\": {\"endlinecolor\": \"#2a3f5f\", \"gridcolor\": \"white\", \"linecolor\": \"white\", \"minorgridcolor\": \"white\", \"startlinecolor\": \"#2a3f5f\"}, \"baxis\": {\"endlinecolor\": \"#2a3f5f\", \"gridcolor\": \"white\", \"linecolor\": \"white\", \"minorgridcolor\": \"white\", \"startlinecolor\": \"#2a3f5f\"}, \"type\": \"carpet\"}], \"choropleth\": [{\"colorbar\": {\"outlinewidth\": 0, \"ticks\": \"\"}, \"type\": \"choropleth\"}], \"contour\": [{\"colorbar\": {\"outlinewidth\": 0, \"ticks\": \"\"}, \"colorscale\": [[0.0, \"#0d0887\"], [0.1111111111111111, \"#46039f\"], [0.2222222222222222, \"#7201a8\"], [0.3333333333333333, \"#9c179e\"], [0.4444444444444444, \"#bd3786\"], [0.5555555555555556, \"#d8576b\"], [0.6666666666666666, \"#ed7953\"], [0.7777777777777778, \"#fb9f3a\"], [0.8888888888888888, \"#fdca26\"], [1.0, \"#f0f921\"]], \"type\": \"contour\"}], \"contourcarpet\": [{\"colorbar\": {\"outlinewidth\": 0, \"ticks\": \"\"}, \"type\": \"contourcarpet\"}], \"heatmap\": [{\"colorbar\": {\"outlinewidth\": 0, \"ticks\": \"\"}, \"colorscale\": [[0.0, \"#0d0887\"], [0.1111111111111111, \"#46039f\"], [0.2222222222222222, \"#7201a8\"], [0.3333333333333333, \"#9c179e\"], [0.4444444444444444, \"#bd3786\"], [0.5555555555555556, \"#d8576b\"], [0.6666666666666666, \"#ed7953\"], [0.7777777777777778, \"#fb9f3a\"], [0.8888888888888888, \"#fdca26\"], [1.0, \"#f0f921\"]], \"type\": \"heatmap\"}], \"heatmapgl\": [{\"colorbar\": {\"outlinewidth\": 0, \"ticks\": \"\"}, \"colorscale\": [[0.0, \"#0d0887\"], [0.1111111111111111, \"#46039f\"], [0.2222222222222222, \"#7201a8\"], [0.3333333333333333, \"#9c179e\"], [0.4444444444444444, \"#bd3786\"], [0.5555555555555556, \"#d8576b\"], [0.6666666666666666, \"#ed7953\"], [0.7777777777777778, \"#fb9f3a\"], [0.8888888888888888, \"#fdca26\"], [1.0, \"#f0f921\"]], \"type\": \"heatmapgl\"}], \"histogram\": [{\"marker\": {\"colorbar\": {\"outlinewidth\": 0, \"ticks\": \"\"}}, \"type\": \"histogram\"}], \"histogram2d\": [{\"colorbar\": {\"outlinewidth\": 0, \"ticks\": \"\"}, \"colorscale\": [[0.0, \"#0d0887\"], [0.1111111111111111, \"#46039f\"], [0.2222222222222222, \"#7201a8\"], [0.3333333333333333, \"#9c179e\"], [0.4444444444444444, \"#bd3786\"], [0.5555555555555556, \"#d8576b\"], [0.6666666666666666, \"#ed7953\"], [0.7777777777777778, \"#fb9f3a\"], [0.8888888888888888, \"#fdca26\"], [1.0, \"#f0f921\"]], \"type\": \"histogram2d\"}], \"histogram2dcontour\": [{\"colorbar\": {\"outlinewidth\": 0, \"ticks\": \"\"}, \"colorscale\": [[0.0, \"#0d0887\"], [0.1111111111111111, \"#46039f\"], [0.2222222222222222, \"#7201a8\"], [0.3333333333333333, \"#9c179e\"], [0.4444444444444444, \"#bd3786\"], [0.5555555555555556, \"#d8576b\"], [0.6666666666666666, \"#ed7953\"], [0.7777777777777778, \"#fb9f3a\"], [0.8888888888888888, \"#fdca26\"], [1.0, \"#f0f921\"]], \"type\": \"histogram2dcontour\"}], \"mesh3d\": [{\"colorbar\": {\"outlinewidth\": 0, \"ticks\": \"\"}, \"type\": \"mesh3d\"}], \"parcoords\": [{\"line\": {\"colorbar\": {\"outlinewidth\": 0, \"ticks\": \"\"}}, \"type\": \"parcoords\"}], \"pie\": [{\"automargin\": true, \"type\": \"pie\"}], \"scatter\": [{\"marker\": {\"colorbar\": {\"outlinewidth\": 0, \"ticks\": \"\"}}, \"type\": \"scatter\"}], \"scatter3d\": [{\"line\": {\"colorbar\": {\"outlinewidth\": 0, \"ticks\": \"\"}}, \"marker\": {\"colorbar\": {\"outlinewidth\": 0, \"ticks\": \"\"}}, \"type\": \"scatter3d\"}], \"scattercarpet\": [{\"marker\": {\"colorbar\": {\"outlinewidth\": 0, \"ticks\": \"\"}}, \"type\": \"scattercarpet\"}], \"scattergeo\": [{\"marker\": {\"colorbar\": {\"outlinewidth\": 0, \"ticks\": \"\"}}, \"type\": \"scattergeo\"}], \"scattergl\": [{\"marker\": {\"colorbar\": {\"outlinewidth\": 0, \"ticks\": \"\"}}, \"type\": \"scattergl\"}], \"scattermapbox\": [{\"marker\": {\"colorbar\": {\"outlinewidth\": 0, \"ticks\": \"\"}}, \"type\": \"scattermapbox\"}], \"scatterpolar\": [{\"marker\": {\"colorbar\": {\"outlinewidth\": 0, \"ticks\": \"\"}}, \"type\": \"scatterpolar\"}], \"scatterpolargl\": [{\"marker\": {\"colorbar\": {\"outlinewidth\": 0, \"ticks\": \"\"}}, \"type\": \"scatterpolargl\"}], \"scatterternary\": [{\"marker\": {\"colorbar\": {\"outlinewidth\": 0, \"ticks\": \"\"}}, \"type\": \"scatterternary\"}], \"surface\": [{\"colorbar\": {\"outlinewidth\": 0, \"ticks\": \"\"}, \"colorscale\": [[0.0, \"#0d0887\"], [0.1111111111111111, \"#46039f\"], [0.2222222222222222, \"#7201a8\"], [0.3333333333333333, \"#9c179e\"], [0.4444444444444444, \"#bd3786\"], [0.5555555555555556, \"#d8576b\"], [0.6666666666666666, \"#ed7953\"], [0.7777777777777778, \"#fb9f3a\"], [0.8888888888888888, \"#fdca26\"], [1.0, \"#f0f921\"]], \"type\": \"surface\"}], \"table\": [{\"cells\": {\"fill\": {\"color\": \"#EBF0F8\"}, \"line\": {\"color\": \"white\"}}, \"header\": {\"fill\": {\"color\": \"#C8D4E3\"}, \"line\": {\"color\": \"white\"}}, \"type\": \"table\"}]}, \"layout\": {\"annotationdefaults\": {\"arrowcolor\": \"#2a3f5f\", \"arrowhead\": 0, \"arrowwidth\": 1}, \"autotypenumbers\": \"strict\", \"coloraxis\": {\"colorbar\": {\"outlinewidth\": 0, \"ticks\": \"\"}}, \"colorscale\": {\"diverging\": [[0, \"#8e0152\"], [0.1, \"#c51b7d\"], [0.2, \"#de77ae\"], [0.3, \"#f1b6da\"], [0.4, \"#fde0ef\"], [0.5, \"#f7f7f7\"], [0.6, \"#e6f5d0\"], [0.7, \"#b8e186\"], [0.8, \"#7fbc41\"], [0.9, \"#4d9221\"], [1, \"#276419\"]], \"sequential\": [[0.0, \"#0d0887\"], [0.1111111111111111, \"#46039f\"], [0.2222222222222222, \"#7201a8\"], [0.3333333333333333, \"#9c179e\"], [0.4444444444444444, \"#bd3786\"], [0.5555555555555556, \"#d8576b\"], [0.6666666666666666, \"#ed7953\"], [0.7777777777777778, \"#fb9f3a\"], [0.8888888888888888, \"#fdca26\"], [1.0, \"#f0f921\"]], \"sequentialminus\": [[0.0, \"#0d0887\"], [0.1111111111111111, \"#46039f\"], [0.2222222222222222, \"#7201a8\"], [0.3333333333333333, \"#9c179e\"], [0.4444444444444444, \"#bd3786\"], [0.5555555555555556, \"#d8576b\"], [0.6666666666666666, \"#ed7953\"], [0.7777777777777778, \"#fb9f3a\"], [0.8888888888888888, \"#fdca26\"], [1.0, \"#f0f921\"]]}, \"colorway\": [\"#636efa\", \"#EF553B\", \"#00cc96\", \"#ab63fa\", \"#FFA15A\", \"#19d3f3\", \"#FF6692\", \"#B6E880\", \"#FF97FF\", \"#FECB52\"], \"font\": {\"color\": \"#2a3f5f\"}, \"geo\": {\"bgcolor\": \"white\", \"lakecolor\": \"white\", \"landcolor\": \"#E5ECF6\", \"showlakes\": true, \"showland\": true, \"subunitcolor\": \"white\"}, \"hoverlabel\": {\"align\": \"left\"}, \"hovermode\": \"closest\", \"mapbox\": {\"style\": \"light\"}, \"paper_bgcolor\": \"white\", \"plot_bgcolor\": \"#E5ECF6\", \"polar\": {\"angularaxis\": {\"gridcolor\": \"white\", \"linecolor\": \"white\", \"ticks\": \"\"}, \"bgcolor\": \"#E5ECF6\", \"radialaxis\": {\"gridcolor\": \"white\", \"linecolor\": \"white\", \"ticks\": \"\"}}, \"scene\": {\"xaxis\": {\"backgroundcolor\": \"#E5ECF6\", \"gridcolor\": \"white\", \"gridwidth\": 2, \"linecolor\": \"white\", \"showbackground\": true, \"ticks\": \"\", \"zerolinecolor\": \"white\"}, \"yaxis\": {\"backgroundcolor\": \"#E5ECF6\", \"gridcolor\": \"white\", \"gridwidth\": 2, \"linecolor\": \"white\", \"showbackground\": true, \"ticks\": \"\", \"zerolinecolor\": \"white\"}, \"zaxis\": {\"backgroundcolor\": \"#E5ECF6\", \"gridcolor\": \"white\", \"gridwidth\": 2, \"linecolor\": \"white\", \"showbackground\": true, \"ticks\": \"\", \"zerolinecolor\": \"white\"}}, \"shapedefaults\": {\"line\": {\"color\": \"#2a3f5f\"}}, \"ternary\": {\"aaxis\": {\"gridcolor\": \"white\", \"linecolor\": \"white\", \"ticks\": \"\"}, \"baxis\": {\"gridcolor\": \"white\", \"linecolor\": \"white\", \"ticks\": \"\"}, \"bgcolor\": \"#E5ECF6\", \"caxis\": {\"gridcolor\": \"white\", \"linecolor\": \"white\", \"ticks\": \"\"}}, \"title\": {\"x\": 0.05}, \"xaxis\": {\"automargin\": true, \"gridcolor\": \"white\", \"linecolor\": \"white\", \"ticks\": \"\", \"title\": {\"standoff\": 15}, \"zerolinecolor\": \"white\", \"zerolinewidth\": 2}, \"yaxis\": {\"automargin\": true, \"gridcolor\": \"white\", \"linecolor\": \"white\", \"ticks\": \"\", \"title\": {\"standoff\": 15}, \"zerolinecolor\": \"white\", \"zerolinewidth\": 2}}}},                        {\"responsive\": true}                    ).then(function(){\n",
       "                            \n",
       "var gd = document.getElementById('4445030c-d912-45db-b246-d6b91e2ca24e');\n",
       "var x = new MutationObserver(function (mutations, observer) {{\n",
       "        var display = window.getComputedStyle(gd).display;\n",
       "        if (!display || display === 'none') {{\n",
       "            console.log([gd, 'removed!']);\n",
       "            Plotly.purge(gd);\n",
       "            observer.disconnect();\n",
       "        }}\n",
       "}});\n",
       "\n",
       "// Listen for the removal of the full notebook cells\n",
       "var notebookContainer = gd.closest('#notebook-container');\n",
       "if (notebookContainer) {{\n",
       "    x.observe(notebookContainer, {childList: true});\n",
       "}}\n",
       "\n",
       "// Listen for the clearing of the current output cell\n",
       "var outputEl = gd.closest('.output');\n",
       "if (outputEl) {{\n",
       "    x.observe(outputEl, {childList: true});\n",
       "}}\n",
       "\n",
       "                        })                };                });            </script>        </div>"
      ]
     },
     "metadata": {},
     "output_type": "display_data"
    }
   ],
   "source": [
    "categories = ['Lunedì', 'Martedì', 'Mercoledì', 'Giovedì', 'Venerdì', 'Sabato','Domenica']\n",
    "\n",
    "fig = go.Figure()\n",
    "\n",
    "fig.add_trace(go.Scatterpolar(\n",
    "      r=ultima_sett_df['Somministrazioni'].values.tolist(),\n",
    "      theta=categories,\n",
    "      fill='toself',\n",
    "      name='Ultima settimana'\n",
    "))\n",
    "\n",
    "fig.add_trace(go.Scatterpolar(\n",
    "    r =infra_sett_df['Somministrazioni'].values.tolist(),\n",
    "    theta=categories,\n",
    "    fill='toself',\n",
    "    name='Tre settimane fa'\n",
    "\n",
    "))\n",
    "\n",
    "fig.add_trace(go.Scatterpolar(\n",
    "      r=mezz_sett_df['Somministrazioni'].values.tolist(),\n",
    "      theta=categories,\n",
    "      fill='toself',\n",
    "      name='Settimana centrale'\n",
    "))\n",
    "\n",
    "fig.add_trace(go.Scatterpolar(\n",
    "    r =mese_sett_df['Somministrazioni'].values.tolist(),\n",
    "    theta=categories,\n",
    "    fill='toself',\n",
    "    name='Quinta settimana'\n",
    "\n",
    "))\n",
    "\n",
    "\n",
    "fig.add_trace(go.Scatterpolar(\n",
    "    r =prima_sett_df['Somministrazioni'].values.tolist(),\n",
    "    theta=categories,\n",
    "    fill='toself',\n",
    "    name='Prima settimana'\n",
    "\n",
    "))\n",
    "\n",
    "fig.update_layout(\n",
    "  polar=dict(\n",
    "    radialaxis=dict(\n",
    "      visible=True,\n",
    "      range=[0, daily_andam.max()]\n",
    "    )),\n",
    "  showlegend=True\n",
    ")\n",
    "fig.show()"
   ]
  },
  {
   "cell_type": "markdown",
   "metadata": {},
   "source": [
    "# Radar plot andamento ultimi 15 gg"
   ]
  },
  {
   "cell_type": "code",
   "execution_count": 243,
   "metadata": {},
   "outputs": [],
   "source": [
    "ultimi_quindici_giorni = daily_andam[-15:] #Ultimi 15 giorni\n",
    "#ultimi_quindici_giorni #è una series"
   ]
  },
  {
   "cell_type": "code",
   "execution_count": 244,
   "metadata": {},
   "outputs": [],
   "source": [
    "list_last_15_dates = []\n",
    "list_last_15_values = []\n",
    "for index,value in ultimi_quindici_giorni.items():\n",
    "    list_last_15_dates.append(index)\n",
    "    list_last_15_values.append(value)"
   ]
  },
  {
   "cell_type": "code",
   "execution_count": 245,
   "metadata": {},
   "outputs": [],
   "source": [
    "#ricaviamo i nomi dei giorni che corrispondono alle date\n",
    "list_last_15_days_name = []\n",
    "for value in list_last_15_dates:\n",
    "    list_last_15_days_name.append(calendar.day_name[datetime.datetime.strptime(value, '%Y-%m-%d').weekday()])"
   ]
  },
  {
   "cell_type": "code",
   "execution_count": 246,
   "metadata": {},
   "outputs": [
    {
     "data": {
      "text/html": [
       "<div>\n",
       "<style scoped>\n",
       "    .dataframe tbody tr th:only-of-type {\n",
       "        vertical-align: middle;\n",
       "    }\n",
       "\n",
       "    .dataframe tbody tr th {\n",
       "        vertical-align: top;\n",
       "    }\n",
       "\n",
       "    .dataframe thead th {\n",
       "        text-align: right;\n",
       "    }\n",
       "</style>\n",
       "<table border=\"1\" class=\"dataframe\">\n",
       "  <thead>\n",
       "    <tr style=\"text-align: right;\">\n",
       "      <th></th>\n",
       "      <th>Data</th>\n",
       "      <th>Giorno</th>\n",
       "      <th>Dosi</th>\n",
       "    </tr>\n",
       "  </thead>\n",
       "  <tbody>\n",
       "    <tr>\n",
       "      <th>0</th>\n",
       "      <td>2021-05-03</td>\n",
       "      <td>Monday</td>\n",
       "      <td>409254</td>\n",
       "    </tr>\n",
       "    <tr>\n",
       "      <th>1</th>\n",
       "      <td>2021-05-04</td>\n",
       "      <td>Tuesday</td>\n",
       "      <td>445334</td>\n",
       "    </tr>\n",
       "    <tr>\n",
       "      <th>2</th>\n",
       "      <td>2021-05-05</td>\n",
       "      <td>Wednesday</td>\n",
       "      <td>477739</td>\n",
       "    </tr>\n",
       "    <tr>\n",
       "      <th>3</th>\n",
       "      <td>2021-05-06</td>\n",
       "      <td>Thursday</td>\n",
       "      <td>514180</td>\n",
       "    </tr>\n",
       "    <tr>\n",
       "      <th>4</th>\n",
       "      <td>2021-05-07</td>\n",
       "      <td>Friday</td>\n",
       "      <td>537761</td>\n",
       "    </tr>\n",
       "    <tr>\n",
       "      <th>5</th>\n",
       "      <td>2021-05-08</td>\n",
       "      <td>Saturday</td>\n",
       "      <td>507270</td>\n",
       "    </tr>\n",
       "    <tr>\n",
       "      <th>6</th>\n",
       "      <td>2021-05-09</td>\n",
       "      <td>Sunday</td>\n",
       "      <td>380177</td>\n",
       "    </tr>\n",
       "    <tr>\n",
       "      <th>7</th>\n",
       "      <td>2021-05-10</td>\n",
       "      <td>Monday</td>\n",
       "      <td>436225</td>\n",
       "    </tr>\n",
       "    <tr>\n",
       "      <th>8</th>\n",
       "      <td>2021-05-11</td>\n",
       "      <td>Tuesday</td>\n",
       "      <td>450055</td>\n",
       "    </tr>\n",
       "    <tr>\n",
       "      <th>9</th>\n",
       "      <td>2021-05-12</td>\n",
       "      <td>Wednesday</td>\n",
       "      <td>476227</td>\n",
       "    </tr>\n",
       "    <tr>\n",
       "      <th>10</th>\n",
       "      <td>2021-05-13</td>\n",
       "      <td>Thursday</td>\n",
       "      <td>517954</td>\n",
       "    </tr>\n",
       "    <tr>\n",
       "      <th>11</th>\n",
       "      <td>2021-05-14</td>\n",
       "      <td>Friday</td>\n",
       "      <td>540673</td>\n",
       "    </tr>\n",
       "    <tr>\n",
       "      <th>12</th>\n",
       "      <td>2021-05-15</td>\n",
       "      <td>Saturday</td>\n",
       "      <td>532606</td>\n",
       "    </tr>\n",
       "    <tr>\n",
       "      <th>13</th>\n",
       "      <td>2021-05-16</td>\n",
       "      <td>Sunday</td>\n",
       "      <td>403799</td>\n",
       "    </tr>\n",
       "    <tr>\n",
       "      <th>14</th>\n",
       "      <td>2021-05-17</td>\n",
       "      <td>Monday</td>\n",
       "      <td>443698</td>\n",
       "    </tr>\n",
       "  </tbody>\n",
       "</table>\n",
       "</div>"
      ],
      "text/plain": [
       "          Data     Giorno    Dosi\n",
       "0   2021-05-03     Monday  409254\n",
       "1   2021-05-04    Tuesday  445334\n",
       "2   2021-05-05  Wednesday  477739\n",
       "3   2021-05-06   Thursday  514180\n",
       "4   2021-05-07     Friday  537761\n",
       "5   2021-05-08   Saturday  507270\n",
       "6   2021-05-09     Sunday  380177\n",
       "7   2021-05-10     Monday  436225\n",
       "8   2021-05-11    Tuesday  450055\n",
       "9   2021-05-12  Wednesday  476227\n",
       "10  2021-05-13   Thursday  517954\n",
       "11  2021-05-14     Friday  540673\n",
       "12  2021-05-15   Saturday  532606\n",
       "13  2021-05-16     Sunday  403799\n",
       "14  2021-05-17     Monday  443698"
      ]
     },
     "execution_count": 246,
     "metadata": {},
     "output_type": "execute_result"
    }
   ],
   "source": [
    "#creiamo il dataframe (non mi serve per il radar plot)\n",
    "dict_last_15_days = {'Data':list_last_15_dates, 'Giorno': list_last_15_days_name, 'Dosi':list_last_15_values}\n",
    "dataframe_last_15_days = pd.DataFrame(dict_last_15_days)\n",
    "dataframe_last_15_days"
   ]
  },
  {
   "cell_type": "code",
   "execution_count": 247,
   "metadata": {},
   "outputs": [],
   "source": [
    "labels = []\n",
    "for i in range(len(list_last_15_dates)):\n",
    "    labels.append(list_last_15_dates[i] + \" \" + list_last_15_days_name[i])"
   ]
  },
  {
   "cell_type": "code",
   "execution_count": 248,
   "metadata": {},
   "outputs": [
    {
     "data": {
      "application/vnd.plotly.v1+json": {
       "config": {
        "plotlyServerURL": "https://plot.ly"
       },
       "data": [
        {
         "fill": "toself",
         "name": "Dosi giornaliere",
         "r": [
          409254,
          445334,
          477739,
          514180,
          537761,
          507270,
          380177,
          436225,
          450055,
          476227,
          517954,
          540673,
          532606,
          403799,
          443698
         ],
         "theta": [
          "2021-05-03 Monday",
          "2021-05-04 Tuesday",
          "2021-05-05 Wednesday",
          "2021-05-06 Thursday",
          "2021-05-07 Friday",
          "2021-05-08 Saturday",
          "2021-05-09 Sunday",
          "2021-05-10 Monday",
          "2021-05-11 Tuesday",
          "2021-05-12 Wednesday",
          "2021-05-13 Thursday",
          "2021-05-14 Friday",
          "2021-05-15 Saturday",
          "2021-05-16 Sunday",
          "2021-05-17 Monday"
         ],
         "type": "scatterpolar"
        }
       ],
       "layout": {
        "font": {
         "color": "blue",
         "family": "Courier New",
         "size": 12
        },
        "legend": {
         "title": {
          "font": {
           "color": "green"
          }
         }
        },
        "polar": {
         "radialaxis": {
          "range": [
           0,
           675841.25
          ],
          "visible": true
         }
        },
        "showlegend": false,
        "template": {
         "data": {
          "bar": [
           {
            "error_x": {
             "color": "#2a3f5f"
            },
            "error_y": {
             "color": "#2a3f5f"
            },
            "marker": {
             "line": {
              "color": "#E5ECF6",
              "width": 0.5
             }
            },
            "type": "bar"
           }
          ],
          "barpolar": [
           {
            "marker": {
             "line": {
              "color": "#E5ECF6",
              "width": 0.5
             }
            },
            "type": "barpolar"
           }
          ],
          "carpet": [
           {
            "aaxis": {
             "endlinecolor": "#2a3f5f",
             "gridcolor": "white",
             "linecolor": "white",
             "minorgridcolor": "white",
             "startlinecolor": "#2a3f5f"
            },
            "baxis": {
             "endlinecolor": "#2a3f5f",
             "gridcolor": "white",
             "linecolor": "white",
             "minorgridcolor": "white",
             "startlinecolor": "#2a3f5f"
            },
            "type": "carpet"
           }
          ],
          "choropleth": [
           {
            "colorbar": {
             "outlinewidth": 0,
             "ticks": ""
            },
            "type": "choropleth"
           }
          ],
          "contour": [
           {
            "colorbar": {
             "outlinewidth": 0,
             "ticks": ""
            },
            "colorscale": [
             [
              0,
              "#0d0887"
             ],
             [
              0.1111111111111111,
              "#46039f"
             ],
             [
              0.2222222222222222,
              "#7201a8"
             ],
             [
              0.3333333333333333,
              "#9c179e"
             ],
             [
              0.4444444444444444,
              "#bd3786"
             ],
             [
              0.5555555555555556,
              "#d8576b"
             ],
             [
              0.6666666666666666,
              "#ed7953"
             ],
             [
              0.7777777777777778,
              "#fb9f3a"
             ],
             [
              0.8888888888888888,
              "#fdca26"
             ],
             [
              1,
              "#f0f921"
             ]
            ],
            "type": "contour"
           }
          ],
          "contourcarpet": [
           {
            "colorbar": {
             "outlinewidth": 0,
             "ticks": ""
            },
            "type": "contourcarpet"
           }
          ],
          "heatmap": [
           {
            "colorbar": {
             "outlinewidth": 0,
             "ticks": ""
            },
            "colorscale": [
             [
              0,
              "#0d0887"
             ],
             [
              0.1111111111111111,
              "#46039f"
             ],
             [
              0.2222222222222222,
              "#7201a8"
             ],
             [
              0.3333333333333333,
              "#9c179e"
             ],
             [
              0.4444444444444444,
              "#bd3786"
             ],
             [
              0.5555555555555556,
              "#d8576b"
             ],
             [
              0.6666666666666666,
              "#ed7953"
             ],
             [
              0.7777777777777778,
              "#fb9f3a"
             ],
             [
              0.8888888888888888,
              "#fdca26"
             ],
             [
              1,
              "#f0f921"
             ]
            ],
            "type": "heatmap"
           }
          ],
          "heatmapgl": [
           {
            "colorbar": {
             "outlinewidth": 0,
             "ticks": ""
            },
            "colorscale": [
             [
              0,
              "#0d0887"
             ],
             [
              0.1111111111111111,
              "#46039f"
             ],
             [
              0.2222222222222222,
              "#7201a8"
             ],
             [
              0.3333333333333333,
              "#9c179e"
             ],
             [
              0.4444444444444444,
              "#bd3786"
             ],
             [
              0.5555555555555556,
              "#d8576b"
             ],
             [
              0.6666666666666666,
              "#ed7953"
             ],
             [
              0.7777777777777778,
              "#fb9f3a"
             ],
             [
              0.8888888888888888,
              "#fdca26"
             ],
             [
              1,
              "#f0f921"
             ]
            ],
            "type": "heatmapgl"
           }
          ],
          "histogram": [
           {
            "marker": {
             "colorbar": {
              "outlinewidth": 0,
              "ticks": ""
             }
            },
            "type": "histogram"
           }
          ],
          "histogram2d": [
           {
            "colorbar": {
             "outlinewidth": 0,
             "ticks": ""
            },
            "colorscale": [
             [
              0,
              "#0d0887"
             ],
             [
              0.1111111111111111,
              "#46039f"
             ],
             [
              0.2222222222222222,
              "#7201a8"
             ],
             [
              0.3333333333333333,
              "#9c179e"
             ],
             [
              0.4444444444444444,
              "#bd3786"
             ],
             [
              0.5555555555555556,
              "#d8576b"
             ],
             [
              0.6666666666666666,
              "#ed7953"
             ],
             [
              0.7777777777777778,
              "#fb9f3a"
             ],
             [
              0.8888888888888888,
              "#fdca26"
             ],
             [
              1,
              "#f0f921"
             ]
            ],
            "type": "histogram2d"
           }
          ],
          "histogram2dcontour": [
           {
            "colorbar": {
             "outlinewidth": 0,
             "ticks": ""
            },
            "colorscale": [
             [
              0,
              "#0d0887"
             ],
             [
              0.1111111111111111,
              "#46039f"
             ],
             [
              0.2222222222222222,
              "#7201a8"
             ],
             [
              0.3333333333333333,
              "#9c179e"
             ],
             [
              0.4444444444444444,
              "#bd3786"
             ],
             [
              0.5555555555555556,
              "#d8576b"
             ],
             [
              0.6666666666666666,
              "#ed7953"
             ],
             [
              0.7777777777777778,
              "#fb9f3a"
             ],
             [
              0.8888888888888888,
              "#fdca26"
             ],
             [
              1,
              "#f0f921"
             ]
            ],
            "type": "histogram2dcontour"
           }
          ],
          "mesh3d": [
           {
            "colorbar": {
             "outlinewidth": 0,
             "ticks": ""
            },
            "type": "mesh3d"
           }
          ],
          "parcoords": [
           {
            "line": {
             "colorbar": {
              "outlinewidth": 0,
              "ticks": ""
             }
            },
            "type": "parcoords"
           }
          ],
          "pie": [
           {
            "automargin": true,
            "type": "pie"
           }
          ],
          "scatter": [
           {
            "marker": {
             "colorbar": {
              "outlinewidth": 0,
              "ticks": ""
             }
            },
            "type": "scatter"
           }
          ],
          "scatter3d": [
           {
            "line": {
             "colorbar": {
              "outlinewidth": 0,
              "ticks": ""
             }
            },
            "marker": {
             "colorbar": {
              "outlinewidth": 0,
              "ticks": ""
             }
            },
            "type": "scatter3d"
           }
          ],
          "scattercarpet": [
           {
            "marker": {
             "colorbar": {
              "outlinewidth": 0,
              "ticks": ""
             }
            },
            "type": "scattercarpet"
           }
          ],
          "scattergeo": [
           {
            "marker": {
             "colorbar": {
              "outlinewidth": 0,
              "ticks": ""
             }
            },
            "type": "scattergeo"
           }
          ],
          "scattergl": [
           {
            "marker": {
             "colorbar": {
              "outlinewidth": 0,
              "ticks": ""
             }
            },
            "type": "scattergl"
           }
          ],
          "scattermapbox": [
           {
            "marker": {
             "colorbar": {
              "outlinewidth": 0,
              "ticks": ""
             }
            },
            "type": "scattermapbox"
           }
          ],
          "scatterpolar": [
           {
            "marker": {
             "colorbar": {
              "outlinewidth": 0,
              "ticks": ""
             }
            },
            "type": "scatterpolar"
           }
          ],
          "scatterpolargl": [
           {
            "marker": {
             "colorbar": {
              "outlinewidth": 0,
              "ticks": ""
             }
            },
            "type": "scatterpolargl"
           }
          ],
          "scatterternary": [
           {
            "marker": {
             "colorbar": {
              "outlinewidth": 0,
              "ticks": ""
             }
            },
            "type": "scatterternary"
           }
          ],
          "surface": [
           {
            "colorbar": {
             "outlinewidth": 0,
             "ticks": ""
            },
            "colorscale": [
             [
              0,
              "#0d0887"
             ],
             [
              0.1111111111111111,
              "#46039f"
             ],
             [
              0.2222222222222222,
              "#7201a8"
             ],
             [
              0.3333333333333333,
              "#9c179e"
             ],
             [
              0.4444444444444444,
              "#bd3786"
             ],
             [
              0.5555555555555556,
              "#d8576b"
             ],
             [
              0.6666666666666666,
              "#ed7953"
             ],
             [
              0.7777777777777778,
              "#fb9f3a"
             ],
             [
              0.8888888888888888,
              "#fdca26"
             ],
             [
              1,
              "#f0f921"
             ]
            ],
            "type": "surface"
           }
          ],
          "table": [
           {
            "cells": {
             "fill": {
              "color": "#EBF0F8"
             },
             "line": {
              "color": "white"
             }
            },
            "header": {
             "fill": {
              "color": "#C8D4E3"
             },
             "line": {
              "color": "white"
             }
            },
            "type": "table"
           }
          ]
         },
         "layout": {
          "annotationdefaults": {
           "arrowcolor": "#2a3f5f",
           "arrowhead": 0,
           "arrowwidth": 1
          },
          "autotypenumbers": "strict",
          "coloraxis": {
           "colorbar": {
            "outlinewidth": 0,
            "ticks": ""
           }
          },
          "colorscale": {
           "diverging": [
            [
             0,
             "#8e0152"
            ],
            [
             0.1,
             "#c51b7d"
            ],
            [
             0.2,
             "#de77ae"
            ],
            [
             0.3,
             "#f1b6da"
            ],
            [
             0.4,
             "#fde0ef"
            ],
            [
             0.5,
             "#f7f7f7"
            ],
            [
             0.6,
             "#e6f5d0"
            ],
            [
             0.7,
             "#b8e186"
            ],
            [
             0.8,
             "#7fbc41"
            ],
            [
             0.9,
             "#4d9221"
            ],
            [
             1,
             "#276419"
            ]
           ],
           "sequential": [
            [
             0,
             "#0d0887"
            ],
            [
             0.1111111111111111,
             "#46039f"
            ],
            [
             0.2222222222222222,
             "#7201a8"
            ],
            [
             0.3333333333333333,
             "#9c179e"
            ],
            [
             0.4444444444444444,
             "#bd3786"
            ],
            [
             0.5555555555555556,
             "#d8576b"
            ],
            [
             0.6666666666666666,
             "#ed7953"
            ],
            [
             0.7777777777777778,
             "#fb9f3a"
            ],
            [
             0.8888888888888888,
             "#fdca26"
            ],
            [
             1,
             "#f0f921"
            ]
           ],
           "sequentialminus": [
            [
             0,
             "#0d0887"
            ],
            [
             0.1111111111111111,
             "#46039f"
            ],
            [
             0.2222222222222222,
             "#7201a8"
            ],
            [
             0.3333333333333333,
             "#9c179e"
            ],
            [
             0.4444444444444444,
             "#bd3786"
            ],
            [
             0.5555555555555556,
             "#d8576b"
            ],
            [
             0.6666666666666666,
             "#ed7953"
            ],
            [
             0.7777777777777778,
             "#fb9f3a"
            ],
            [
             0.8888888888888888,
             "#fdca26"
            ],
            [
             1,
             "#f0f921"
            ]
           ]
          },
          "colorway": [
           "#636efa",
           "#EF553B",
           "#00cc96",
           "#ab63fa",
           "#FFA15A",
           "#19d3f3",
           "#FF6692",
           "#B6E880",
           "#FF97FF",
           "#FECB52"
          ],
          "font": {
           "color": "#2a3f5f"
          },
          "geo": {
           "bgcolor": "white",
           "lakecolor": "white",
           "landcolor": "#E5ECF6",
           "showlakes": true,
           "showland": true,
           "subunitcolor": "white"
          },
          "hoverlabel": {
           "align": "left"
          },
          "hovermode": "closest",
          "mapbox": {
           "style": "light"
          },
          "paper_bgcolor": "white",
          "plot_bgcolor": "#E5ECF6",
          "polar": {
           "angularaxis": {
            "gridcolor": "white",
            "linecolor": "white",
            "ticks": ""
           },
           "bgcolor": "#E5ECF6",
           "radialaxis": {
            "gridcolor": "white",
            "linecolor": "white",
            "ticks": ""
           }
          },
          "scene": {
           "xaxis": {
            "backgroundcolor": "#E5ECF6",
            "gridcolor": "white",
            "gridwidth": 2,
            "linecolor": "white",
            "showbackground": true,
            "ticks": "",
            "zerolinecolor": "white"
           },
           "yaxis": {
            "backgroundcolor": "#E5ECF6",
            "gridcolor": "white",
            "gridwidth": 2,
            "linecolor": "white",
            "showbackground": true,
            "ticks": "",
            "zerolinecolor": "white"
           },
           "zaxis": {
            "backgroundcolor": "#E5ECF6",
            "gridcolor": "white",
            "gridwidth": 2,
            "linecolor": "white",
            "showbackground": true,
            "ticks": "",
            "zerolinecolor": "white"
           }
          },
          "shapedefaults": {
           "line": {
            "color": "#2a3f5f"
           }
          },
          "ternary": {
           "aaxis": {
            "gridcolor": "white",
            "linecolor": "white",
            "ticks": ""
           },
           "baxis": {
            "gridcolor": "white",
            "linecolor": "white",
            "ticks": ""
           },
           "bgcolor": "#E5ECF6",
           "caxis": {
            "gridcolor": "white",
            "linecolor": "white",
            "ticks": ""
           }
          },
          "title": {
           "x": 0.05
          },
          "xaxis": {
           "automargin": true,
           "gridcolor": "white",
           "linecolor": "white",
           "ticks": "",
           "title": {
            "standoff": 15
           },
           "zerolinecolor": "white",
           "zerolinewidth": 2
          },
          "yaxis": {
           "automargin": true,
           "gridcolor": "white",
           "linecolor": "white",
           "ticks": "",
           "title": {
            "standoff": 15
           },
           "zerolinecolor": "white",
           "zerolinewidth": 2
          }
         }
        },
        "title": {
         "font": {
          "color": "grey",
          "family": "Verdana"
         },
         "text": "Andamento ultimi 15 giorni"
        }
       }
      },
      "text/html": [
       "<div>                            <div id=\"68dadce6-51f6-453b-80d3-17835ea90e42\" class=\"plotly-graph-div\" style=\"height:525px; width:100%;\"></div>            <script type=\"text/javascript\">                require([\"plotly\"], function(Plotly) {                    window.PLOTLYENV=window.PLOTLYENV || {};                                    if (document.getElementById(\"68dadce6-51f6-453b-80d3-17835ea90e42\")) {                    Plotly.newPlot(                        \"68dadce6-51f6-453b-80d3-17835ea90e42\",                        [{\"fill\": \"toself\", \"name\": \"Dosi giornaliere\", \"r\": [409254, 445334, 477739, 514180, 537761, 507270, 380177, 436225, 450055, 476227, 517954, 540673, 532606, 403799, 443698], \"theta\": [\"2021-05-03 Monday\", \"2021-05-04 Tuesday\", \"2021-05-05 Wednesday\", \"2021-05-06 Thursday\", \"2021-05-07 Friday\", \"2021-05-08 Saturday\", \"2021-05-09 Sunday\", \"2021-05-10 Monday\", \"2021-05-11 Tuesday\", \"2021-05-12 Wednesday\", \"2021-05-13 Thursday\", \"2021-05-14 Friday\", \"2021-05-15 Saturday\", \"2021-05-16 Sunday\", \"2021-05-17 Monday\"], \"type\": \"scatterpolar\"}],                        {\"font\": {\"color\": \"blue\", \"family\": \"Courier New\", \"size\": 12}, \"legend\": {\"title\": {\"font\": {\"color\": \"green\"}}}, \"polar\": {\"radialaxis\": {\"range\": [0, 675841.25], \"visible\": true}}, \"showlegend\": false, \"template\": {\"data\": {\"bar\": [{\"error_x\": {\"color\": \"#2a3f5f\"}, \"error_y\": {\"color\": \"#2a3f5f\"}, \"marker\": {\"line\": {\"color\": \"#E5ECF6\", \"width\": 0.5}}, \"type\": \"bar\"}], \"barpolar\": [{\"marker\": {\"line\": {\"color\": \"#E5ECF6\", \"width\": 0.5}}, \"type\": \"barpolar\"}], \"carpet\": [{\"aaxis\": {\"endlinecolor\": \"#2a3f5f\", \"gridcolor\": \"white\", \"linecolor\": \"white\", \"minorgridcolor\": \"white\", \"startlinecolor\": \"#2a3f5f\"}, \"baxis\": {\"endlinecolor\": \"#2a3f5f\", \"gridcolor\": \"white\", \"linecolor\": \"white\", \"minorgridcolor\": \"white\", \"startlinecolor\": \"#2a3f5f\"}, \"type\": \"carpet\"}], \"choropleth\": [{\"colorbar\": {\"outlinewidth\": 0, \"ticks\": \"\"}, \"type\": \"choropleth\"}], \"contour\": [{\"colorbar\": {\"outlinewidth\": 0, \"ticks\": \"\"}, \"colorscale\": [[0.0, \"#0d0887\"], [0.1111111111111111, \"#46039f\"], [0.2222222222222222, \"#7201a8\"], [0.3333333333333333, \"#9c179e\"], [0.4444444444444444, \"#bd3786\"], [0.5555555555555556, \"#d8576b\"], [0.6666666666666666, \"#ed7953\"], [0.7777777777777778, \"#fb9f3a\"], [0.8888888888888888, \"#fdca26\"], [1.0, \"#f0f921\"]], \"type\": \"contour\"}], \"contourcarpet\": [{\"colorbar\": {\"outlinewidth\": 0, \"ticks\": \"\"}, \"type\": \"contourcarpet\"}], \"heatmap\": [{\"colorbar\": {\"outlinewidth\": 0, \"ticks\": \"\"}, \"colorscale\": [[0.0, \"#0d0887\"], [0.1111111111111111, \"#46039f\"], [0.2222222222222222, \"#7201a8\"], [0.3333333333333333, \"#9c179e\"], [0.4444444444444444, \"#bd3786\"], [0.5555555555555556, \"#d8576b\"], [0.6666666666666666, \"#ed7953\"], [0.7777777777777778, \"#fb9f3a\"], [0.8888888888888888, \"#fdca26\"], [1.0, \"#f0f921\"]], \"type\": \"heatmap\"}], \"heatmapgl\": [{\"colorbar\": {\"outlinewidth\": 0, \"ticks\": \"\"}, \"colorscale\": [[0.0, \"#0d0887\"], [0.1111111111111111, \"#46039f\"], [0.2222222222222222, \"#7201a8\"], [0.3333333333333333, \"#9c179e\"], [0.4444444444444444, \"#bd3786\"], [0.5555555555555556, \"#d8576b\"], [0.6666666666666666, \"#ed7953\"], [0.7777777777777778, \"#fb9f3a\"], [0.8888888888888888, \"#fdca26\"], [1.0, \"#f0f921\"]], \"type\": \"heatmapgl\"}], \"histogram\": [{\"marker\": {\"colorbar\": {\"outlinewidth\": 0, \"ticks\": \"\"}}, \"type\": \"histogram\"}], \"histogram2d\": [{\"colorbar\": {\"outlinewidth\": 0, \"ticks\": \"\"}, \"colorscale\": [[0.0, \"#0d0887\"], [0.1111111111111111, \"#46039f\"], [0.2222222222222222, \"#7201a8\"], [0.3333333333333333, \"#9c179e\"], [0.4444444444444444, \"#bd3786\"], [0.5555555555555556, \"#d8576b\"], [0.6666666666666666, \"#ed7953\"], [0.7777777777777778, \"#fb9f3a\"], [0.8888888888888888, \"#fdca26\"], [1.0, \"#f0f921\"]], \"type\": \"histogram2d\"}], \"histogram2dcontour\": [{\"colorbar\": {\"outlinewidth\": 0, \"ticks\": \"\"}, \"colorscale\": [[0.0, \"#0d0887\"], [0.1111111111111111, \"#46039f\"], [0.2222222222222222, \"#7201a8\"], [0.3333333333333333, \"#9c179e\"], [0.4444444444444444, \"#bd3786\"], [0.5555555555555556, \"#d8576b\"], [0.6666666666666666, \"#ed7953\"], [0.7777777777777778, \"#fb9f3a\"], [0.8888888888888888, \"#fdca26\"], [1.0, \"#f0f921\"]], \"type\": \"histogram2dcontour\"}], \"mesh3d\": [{\"colorbar\": {\"outlinewidth\": 0, \"ticks\": \"\"}, \"type\": \"mesh3d\"}], \"parcoords\": [{\"line\": {\"colorbar\": {\"outlinewidth\": 0, \"ticks\": \"\"}}, \"type\": \"parcoords\"}], \"pie\": [{\"automargin\": true, \"type\": \"pie\"}], \"scatter\": [{\"marker\": {\"colorbar\": {\"outlinewidth\": 0, \"ticks\": \"\"}}, \"type\": \"scatter\"}], \"scatter3d\": [{\"line\": {\"colorbar\": {\"outlinewidth\": 0, \"ticks\": \"\"}}, \"marker\": {\"colorbar\": {\"outlinewidth\": 0, \"ticks\": \"\"}}, \"type\": \"scatter3d\"}], \"scattercarpet\": [{\"marker\": {\"colorbar\": {\"outlinewidth\": 0, \"ticks\": \"\"}}, \"type\": \"scattercarpet\"}], \"scattergeo\": [{\"marker\": {\"colorbar\": {\"outlinewidth\": 0, \"ticks\": \"\"}}, \"type\": \"scattergeo\"}], \"scattergl\": [{\"marker\": {\"colorbar\": {\"outlinewidth\": 0, \"ticks\": \"\"}}, \"type\": \"scattergl\"}], \"scattermapbox\": [{\"marker\": {\"colorbar\": {\"outlinewidth\": 0, \"ticks\": \"\"}}, \"type\": \"scattermapbox\"}], \"scatterpolar\": [{\"marker\": {\"colorbar\": {\"outlinewidth\": 0, \"ticks\": \"\"}}, \"type\": \"scatterpolar\"}], \"scatterpolargl\": [{\"marker\": {\"colorbar\": {\"outlinewidth\": 0, \"ticks\": \"\"}}, \"type\": \"scatterpolargl\"}], \"scatterternary\": [{\"marker\": {\"colorbar\": {\"outlinewidth\": 0, \"ticks\": \"\"}}, \"type\": \"scatterternary\"}], \"surface\": [{\"colorbar\": {\"outlinewidth\": 0, \"ticks\": \"\"}, \"colorscale\": [[0.0, \"#0d0887\"], [0.1111111111111111, \"#46039f\"], [0.2222222222222222, \"#7201a8\"], [0.3333333333333333, \"#9c179e\"], [0.4444444444444444, \"#bd3786\"], [0.5555555555555556, \"#d8576b\"], [0.6666666666666666, \"#ed7953\"], [0.7777777777777778, \"#fb9f3a\"], [0.8888888888888888, \"#fdca26\"], [1.0, \"#f0f921\"]], \"type\": \"surface\"}], \"table\": [{\"cells\": {\"fill\": {\"color\": \"#EBF0F8\"}, \"line\": {\"color\": \"white\"}}, \"header\": {\"fill\": {\"color\": \"#C8D4E3\"}, \"line\": {\"color\": \"white\"}}, \"type\": \"table\"}]}, \"layout\": {\"annotationdefaults\": {\"arrowcolor\": \"#2a3f5f\", \"arrowhead\": 0, \"arrowwidth\": 1}, \"autotypenumbers\": \"strict\", \"coloraxis\": {\"colorbar\": {\"outlinewidth\": 0, \"ticks\": \"\"}}, \"colorscale\": {\"diverging\": [[0, \"#8e0152\"], [0.1, \"#c51b7d\"], [0.2, \"#de77ae\"], [0.3, \"#f1b6da\"], [0.4, \"#fde0ef\"], [0.5, \"#f7f7f7\"], [0.6, \"#e6f5d0\"], [0.7, \"#b8e186\"], [0.8, \"#7fbc41\"], [0.9, \"#4d9221\"], [1, \"#276419\"]], \"sequential\": [[0.0, \"#0d0887\"], [0.1111111111111111, \"#46039f\"], [0.2222222222222222, \"#7201a8\"], [0.3333333333333333, \"#9c179e\"], [0.4444444444444444, \"#bd3786\"], [0.5555555555555556, \"#d8576b\"], [0.6666666666666666, \"#ed7953\"], [0.7777777777777778, \"#fb9f3a\"], [0.8888888888888888, \"#fdca26\"], [1.0, \"#f0f921\"]], \"sequentialminus\": [[0.0, \"#0d0887\"], [0.1111111111111111, \"#46039f\"], [0.2222222222222222, \"#7201a8\"], [0.3333333333333333, \"#9c179e\"], [0.4444444444444444, \"#bd3786\"], [0.5555555555555556, \"#d8576b\"], [0.6666666666666666, \"#ed7953\"], [0.7777777777777778, \"#fb9f3a\"], [0.8888888888888888, \"#fdca26\"], [1.0, \"#f0f921\"]]}, \"colorway\": [\"#636efa\", \"#EF553B\", \"#00cc96\", \"#ab63fa\", \"#FFA15A\", \"#19d3f3\", \"#FF6692\", \"#B6E880\", \"#FF97FF\", \"#FECB52\"], \"font\": {\"color\": \"#2a3f5f\"}, \"geo\": {\"bgcolor\": \"white\", \"lakecolor\": \"white\", \"landcolor\": \"#E5ECF6\", \"showlakes\": true, \"showland\": true, \"subunitcolor\": \"white\"}, \"hoverlabel\": {\"align\": \"left\"}, \"hovermode\": \"closest\", \"mapbox\": {\"style\": \"light\"}, \"paper_bgcolor\": \"white\", \"plot_bgcolor\": \"#E5ECF6\", \"polar\": {\"angularaxis\": {\"gridcolor\": \"white\", \"linecolor\": \"white\", \"ticks\": \"\"}, \"bgcolor\": \"#E5ECF6\", \"radialaxis\": {\"gridcolor\": \"white\", \"linecolor\": \"white\", \"ticks\": \"\"}}, \"scene\": {\"xaxis\": {\"backgroundcolor\": \"#E5ECF6\", \"gridcolor\": \"white\", \"gridwidth\": 2, \"linecolor\": \"white\", \"showbackground\": true, \"ticks\": \"\", \"zerolinecolor\": \"white\"}, \"yaxis\": {\"backgroundcolor\": \"#E5ECF6\", \"gridcolor\": \"white\", \"gridwidth\": 2, \"linecolor\": \"white\", \"showbackground\": true, \"ticks\": \"\", \"zerolinecolor\": \"white\"}, \"zaxis\": {\"backgroundcolor\": \"#E5ECF6\", \"gridcolor\": \"white\", \"gridwidth\": 2, \"linecolor\": \"white\", \"showbackground\": true, \"ticks\": \"\", \"zerolinecolor\": \"white\"}}, \"shapedefaults\": {\"line\": {\"color\": \"#2a3f5f\"}}, \"ternary\": {\"aaxis\": {\"gridcolor\": \"white\", \"linecolor\": \"white\", \"ticks\": \"\"}, \"baxis\": {\"gridcolor\": \"white\", \"linecolor\": \"white\", \"ticks\": \"\"}, \"bgcolor\": \"#E5ECF6\", \"caxis\": {\"gridcolor\": \"white\", \"linecolor\": \"white\", \"ticks\": \"\"}}, \"title\": {\"x\": 0.05}, \"xaxis\": {\"automargin\": true, \"gridcolor\": \"white\", \"linecolor\": \"white\", \"ticks\": \"\", \"title\": {\"standoff\": 15}, \"zerolinecolor\": \"white\", \"zerolinewidth\": 2}, \"yaxis\": {\"automargin\": true, \"gridcolor\": \"white\", \"linecolor\": \"white\", \"ticks\": \"\", \"title\": {\"standoff\": 15}, \"zerolinecolor\": \"white\", \"zerolinewidth\": 2}}}, \"title\": {\"font\": {\"color\": \"grey\", \"family\": \"Verdana\"}, \"text\": \"Andamento ultimi 15 giorni\"}},                        {\"responsive\": true}                    ).then(function(){\n",
       "                            \n",
       "var gd = document.getElementById('68dadce6-51f6-453b-80d3-17835ea90e42');\n",
       "var x = new MutationObserver(function (mutations, observer) {{\n",
       "        var display = window.getComputedStyle(gd).display;\n",
       "        if (!display || display === 'none') {{\n",
       "            console.log([gd, 'removed!']);\n",
       "            Plotly.purge(gd);\n",
       "            observer.disconnect();\n",
       "        }}\n",
       "}});\n",
       "\n",
       "// Listen for the removal of the full notebook cells\n",
       "var notebookContainer = gd.closest('#notebook-container');\n",
       "if (notebookContainer) {{\n",
       "    x.observe(notebookContainer, {childList: true});\n",
       "}}\n",
       "\n",
       "// Listen for the clearing of the current output cell\n",
       "var outputEl = gd.closest('.output');\n",
       "if (outputEl) {{\n",
       "    x.observe(outputEl, {childList: true});\n",
       "}}\n",
       "\n",
       "                        })                };                });            </script>        </div>"
      ]
     },
     "metadata": {},
     "output_type": "display_data"
    }
   ],
   "source": [
    "fig2 = go.Figure()\n",
    "\n",
    "fig2.add_trace(go.Scatterpolar(\n",
    "      r=list_last_15_values,\n",
    "      theta=labels,\n",
    "      fill='toself',\n",
    "      name='Dosi giornaliere'\n",
    "))\n",
    "\n",
    "fig2.update_layout(\n",
    "  polar=dict(\n",
    "    radialaxis=dict(\n",
    "      visible=True,\n",
    "      range=[0,(ultimi_quindici_giorni.max())+(ultimi_quindici_giorni.max()*0.25)]\n",
    "    )),\n",
    "  showlegend=False\n",
    ")\n",
    "fig2.update_layout(\n",
    "    title=\"Andamento ultimi 15 giorni\",\n",
    "    font_family=\"Courier New\",\n",
    "    font_color=\"blue\",\n",
    "    font_size=12,\n",
    "    title_font_family=\"Verdana\",\n",
    "    title_font_color=\"grey\",\n",
    "    legend_title_font_color=\"green\"\n",
    ")\n",
    "\n",
    "fig2.show()"
   ]
  },
  {
   "cell_type": "markdown",
   "metadata": {},
   "source": [
    "### Per i dati aggiornati ad oggi puoi visitare www.brimdeep.it/vaccini con la percentuale della popolazione italiana che ha concluso il ciclo vaccinale, la percentuale delle dosi per ogni singola regione e dati sui fornitori"
   ]
  }
 ],
 "metadata": {
  "kernelspec": {
   "display_name": "Python 3",
   "language": "python",
   "name": "python3"
  },
  "language_info": {
   "codemirror_mode": {
    "name": "ipython",
    "version": 3
   },
   "file_extension": ".py",
   "mimetype": "text/x-python",
   "name": "python",
   "nbconvert_exporter": "python",
   "pygments_lexer": "ipython3",
   "version": "3.8.5"
  }
 },
 "nbformat": 4,
 "nbformat_minor": 4
}
